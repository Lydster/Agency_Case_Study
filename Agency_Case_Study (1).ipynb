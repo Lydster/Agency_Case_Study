{
 "cells": [
  {
   "cell_type": "markdown",
   "metadata": {},
   "source": [
    "## Agency_Case_Study"
   ]
  },
  {
   "cell_type": "markdown",
   "metadata": {},
   "source": [
    "Our advertising agency collects data including:\n",
    " \n",
    "Impressions and their attributes associated with the delivery of digital media.\n",
    "Transaction level data describing the actions taken by message recipients in response to digital media.\n",
    "Media spend and revenue driven by media.\n",
    " \n",
    "In this exercise, we look at a fictional data set for an online travel service client (e.g. Expedia or Orbitz). All files are tab delimited.\n"
   ]
  },
  {
   "cell_type": "markdown",
   "metadata": {},
   "source": [
    "Methodology:"
   ]
  },
  {
   "cell_type": "markdown",
   "metadata": {},
   "source": [
    "General descriptions of each dataset provided:\n",
    "\n",
    "Impressions - Cookie level record of display advertisements (impressions) served. (cookie_id, activity_tag, activity_type)\n",
    "\n",
    "Activity - Cookie level record of conversion activities. (cookie_id, activity_tag, activity_type)\n",
    "\n",
    "Ad Lookup - Record of attributes of each ad. (ad_id, ad_size, ad_format)\n",
    "\n",
    "Placement Lookup - Record of attributes of each placement. (placement_id, category_id, cpi)\n",
    "\n",
    "Category Lookup - Record of attributes of each category. (category_id, category, avg_purchase_price)\n",
    "\n",
    "Converting the raw data into the dataset used in the analysis: Since all of the files were tab delimited, I took a few steps before I got to this point.\n",
    "\n",
    "1. I downloaded the files and then uploaded them into seperate excel sheets.\n",
    "2. I then used the 'Text to Columns' function to sort everything into the appropriate rows and saved the pages as CSV files.\n",
    "3. Then I created a local database in DB Browser in order to get the data into a format compatible with Jupyter.\n"
   ]
  },
  {
   "cell_type": "markdown",
   "metadata": {},
   "source": [
    "In order to better understand which variables effect our bottom line; I'm going to explore the question below.\n",
    "\n",
    "\n",
    "\n",
    "1. \tWhich Ads are most effective in generating conversions?  Which Ads are most efficient? Why might this be?\n",
    "2. \tWhich Placements are most effective in generating conversions?  Which Placements are most efficient?  Why might this be?\n",
    "3. \tWhat are the possible confounds that may undermine your conclusions?\n",
    "4. \tWhat would you do to improve the analysis?  Is there additional data you’d like to have available that would allow you to sharpen your findings?\n",
    "5. \tWhat would your recommendation to the client be?\n"
   ]
  },
  {
   "cell_type": "markdown",
   "metadata": {},
   "source": [
    "Glossary:\n",
    "\n",
    "-Impression: a record that indicates an online ad was served to a computer that is connected to the Internet. This information is collected from cookies.\n",
    "\n",
    "-Cookie: a small textfile sent to browsers and is used to measure a user's interaction with various websites anonymously. It's an important component of determining the effectiveness of an ad campaign.\n",
    "\n",
    "-Media Spend: the amount of money budgeted to an ad campaign.\n",
    "\n",
    "-Cost per Impression (CPI): the cost to have a single ad delivered to a computer.\n",
    "\n",
    "-View-Through Conversion: a user who purchases an advertised product after exposed to one or more ads of the product without clicking on an ad of that product. The user is considered to have purchased the product once (s)he reaches the purchase-confirmation webpage.\n",
    "\n",
    "-Placement: the website that an ad appears in.\n",
    "\n",
    "-ROI: The benefit (or return) of an investment is divided by the cost of the investment.\n",
    "\n",
    "-Click-To-Purchase: The customer made a purchase through clicking on the Ad.\n",
    "\n",
    "-Purchase: All purchases including Click-To_Purchases and all other purchasing methods."
   ]
  },
  {
   "cell_type": "markdown",
   "metadata": {},
   "source": [
    "# Summary of Analysis"
   ]
  },
  {
   "cell_type": "markdown",
   "metadata": {},
   "source": [
    "Ad Size:\n",
    "    \n",
    "The larger ads had the highest Click-to-Purchase rates. Ad Size 970x250 was the highest at 16%, with the highest overall purcahse rate too at 64%. The other Ad Sizes that performed particularly well were 500x600 and 300x600, both had click-to-purchase rates around 12%\n",
    "    \n",
    "The lowest click-to_purchase ad size was 728x90 at 5.28. The news video has the lowest overall purchase rate at only 15% with only 6% coming from clicks.\n",
    "    \n",
    "Placement:\n",
    "\n",
    "3714, 3715, and 3716 are the placement Ids with the highest click-to-purchase rates. Placements 3715 and 3716 also have the highest overall purchase rates at 64%.\n",
    "    \n",
    "Ad ID:\n",
    "     \n",
    "Ad ID 326 has the highest click-to purchase rate. It is a Travel Ad that brings an over 500% return on investment. We are losing money on our video news ad with an ROI of -22%.\n",
    "    \n",
    "Categories:\n",
    "\n",
    "Travel has the highest return on investment at 567%. News has the lowest at 11%. Travel also has the highest overall purchase rate at 48.89%, but the click-to purchase rate is only 11.55%. The much lower click-to-purchase rate suggests that a confounding variable of this study is that travel is a necessity of many customers. \n",
    "\n",
    "Weather has a 20% overall purchase rate and a 10% click-to-purchase rate. Gaming and news also have around 50% of their purchases made through clicks on their ads.\n",
    "    \n",
    "Format:\n",
    "\n",
    "Rich-Media features only Travel and News ads and has a 375% return on investment. Rich-Media has a 50% conversion rate, which is more than double that of Standard or Video.\n",
    "\n",
    "Recommendations:\n",
    "\n",
    "1. Remove the video news ad with the Ad ID 328. We've lost $6300 on that video.\n",
    "\n",
    "2. Further explore why the percentage of click-to-purchase rates on travel are so low in comparison to their overall purchase rates. If there is a better way to advertize to people who are buying out of necessity; we could win over even more purchasers.\n",
    "\n",
    "3. Take a closer look at the individual Rich-Media Format campaigns. The return on investment and the purchase rates affiliated with them are sky high, but they do represent a very small sample size in comparison to our standard ad format."
   ]
  },
  {
   "cell_type": "code",
   "execution_count": 116,
   "metadata": {
    "collapsed": true
   },
   "outputs": [],
   "source": [
    "#import all tools needed for analysis\n",
    "import pandas as pd\n",
    "import numpy as np\n",
    "import sqlite3 as sql\n",
    "import matplotlib.pyplot as plt\n",
    "import seaborn as sns\n",
    "%matplotlib inline"
   ]
  },
  {
   "cell_type": "code",
   "execution_count": 117,
   "metadata": {
    "collapsed": true
   },
   "outputs": [],
   "source": [
    "#Create SQLite connection to the database I made\n",
    "database = \"Agency_Case_Study1.db\"\n",
    "connection = sql.connect(database)"
   ]
  },
  {
   "cell_type": "code",
   "execution_count": 118,
   "metadata": {},
   "outputs": [
    {
     "data": {
      "text/html": [
       "<div>\n",
       "<style>\n",
       "    .dataframe thead tr:only-child th {\n",
       "        text-align: right;\n",
       "    }\n",
       "\n",
       "    .dataframe thead th {\n",
       "        text-align: left;\n",
       "    }\n",
       "\n",
       "    .dataframe tbody tr th {\n",
       "        vertical-align: top;\n",
       "    }\n",
       "</style>\n",
       "<table border=\"1\" class=\"dataframe\">\n",
       "  <thead>\n",
       "    <tr style=\"text-align: right;\">\n",
       "      <th></th>\n",
       "      <th>Ad_ID</th>\n",
       "      <th>Placement_ID</th>\n",
       "      <th>Cookie_ID</th>\n",
       "      <th>Category_ID</th>\n",
       "      <th>Category</th>\n",
       "      <th>AVG_Purchase_Price</th>\n",
       "      <th>Ad_Size</th>\n",
       "      <th>Ad_Format</th>\n",
       "      <th>Activity_Tag</th>\n",
       "      <th>Activity_Type</th>\n",
       "      <th>CPI</th>\n",
       "    </tr>\n",
       "  </thead>\n",
       "  <tbody>\n",
       "    <tr>\n",
       "      <th>0</th>\n",
       "      <td>325</td>\n",
       "      <td>3719</td>\n",
       "      <td>12270</td>\n",
       "      <td>10002</td>\n",
       "      <td>Weather</td>\n",
       "      <td>150.00</td>\n",
       "      <td>300x600</td>\n",
       "      <td>Standard</td>\n",
       "      <td>None</td>\n",
       "      <td>None</td>\n",
       "      <td>8.00</td>\n",
       "    </tr>\n",
       "    <tr>\n",
       "      <th>1</th>\n",
       "      <td>324</td>\n",
       "      <td>3718</td>\n",
       "      <td>15956</td>\n",
       "      <td>10002</td>\n",
       "      <td>Weather</td>\n",
       "      <td>150.00</td>\n",
       "      <td>728x90</td>\n",
       "      <td>Standard</td>\n",
       "      <td>None</td>\n",
       "      <td>None</td>\n",
       "      <td>8.00</td>\n",
       "    </tr>\n",
       "    <tr>\n",
       "      <th>2</th>\n",
       "      <td>325</td>\n",
       "      <td>3714</td>\n",
       "      <td>3793</td>\n",
       "      <td>10001</td>\n",
       "      <td>Travel</td>\n",
       "      <td>200.00</td>\n",
       "      <td>300x600</td>\n",
       "      <td>Standard</td>\n",
       "      <td>None</td>\n",
       "      <td>None</td>\n",
       "      <td>12.00</td>\n",
       "    </tr>\n",
       "    <tr>\n",
       "      <th>3</th>\n",
       "      <td>324</td>\n",
       "      <td>3721</td>\n",
       "      <td>9599</td>\n",
       "      <td>10003</td>\n",
       "      <td>News</td>\n",
       "      <td>250.00</td>\n",
       "      <td>728x90</td>\n",
       "      <td>Standard</td>\n",
       "      <td>None</td>\n",
       "      <td>None</td>\n",
       "      <td>20.00</td>\n",
       "    </tr>\n",
       "    <tr>\n",
       "      <th>4</th>\n",
       "      <td>323</td>\n",
       "      <td>3720</td>\n",
       "      <td>16807</td>\n",
       "      <td>10003</td>\n",
       "      <td>News</td>\n",
       "      <td>250.00</td>\n",
       "      <td>300x250</td>\n",
       "      <td>Standard</td>\n",
       "      <td>None</td>\n",
       "      <td>None</td>\n",
       "      <td>20.00</td>\n",
       "    </tr>\n",
       "  </tbody>\n",
       "</table>\n",
       "</div>"
      ],
      "text/plain": [
       "  Ad_ID Placement_ID Cookie_ID Category_ID Category AVG_Purchase_Price  \\\n",
       "0   325         3719     12270       10002  Weather             150.00   \n",
       "1   324         3718     15956       10002  Weather             150.00   \n",
       "2   325         3714      3793       10001   Travel             200.00   \n",
       "3   324         3721      9599       10003     News             250.00   \n",
       "4   323         3720     16807       10003     News             250.00   \n",
       "\n",
       "   Ad_Size Ad_Format Activity_Tag Activity_Type    CPI  \n",
       "0  300x600  Standard         None          None   8.00  \n",
       "1   728x90  Standard         None          None   8.00  \n",
       "2  300x600  Standard         None          None  12.00  \n",
       "3   728x90  Standard         None          None  20.00  \n",
       "4  300x250  Standard         None          None  20.00  "
      ]
     },
     "execution_count": 118,
     "metadata": {},
     "output_type": "execute_result"
    }
   ],
   "source": [
    "#Create SQL query in order to join all of the tables in my database. It's important to pay attention to the type of join used- doing join improperly can result in data lost.\n",
    "\n",
    "query = '''SELECT i.Ad_ID, i.Placement_ID, i.Cookie_ID, c.Category_ID, c.Category, c.AVG_Purchase_Price, al.Ad_Size, al.Ad_Format, a.Activity_Tag, a.Activity_Type, pl.CPI \n",
    "FROM IMPRESSIONS i\n",
    "LEFT JOIN ACTIVITY a ON i.Cookie_ID = a.Cookie_ID\n",
    "LEFT JOIN Placement_Lookup pl ON i.Placement_ID = pl.Placement_ID\n",
    "LEFT JOIN Category_Lookup c ON pl.Category_ID = c.Category_ID\n",
    "LEFT JOIN Ad_Lookup al ON i.Ad_ID = al.Ad_ID\n",
    "'''\n",
    "df = pd.read_sql_query(query, connection)\n",
    "df.head()"
   ]
  },
  {
   "cell_type": "code",
   "execution_count": 94,
   "metadata": {},
   "outputs": [
    {
     "data": {
      "text/html": [
       "<div>\n",
       "<style>\n",
       "    .dataframe thead tr:only-child th {\n",
       "        text-align: right;\n",
       "    }\n",
       "\n",
       "    .dataframe thead th {\n",
       "        text-align: left;\n",
       "    }\n",
       "\n",
       "    .dataframe tbody tr th {\n",
       "        vertical-align: top;\n",
       "    }\n",
       "</style>\n",
       "<table border=\"1\" class=\"dataframe\">\n",
       "  <thead>\n",
       "    <tr style=\"text-align: right;\">\n",
       "      <th></th>\n",
       "      <th>Ad_ID</th>\n",
       "      <th>Placement_ID</th>\n",
       "      <th>Cookie_ID</th>\n",
       "      <th>Category_ID</th>\n",
       "      <th>Category</th>\n",
       "      <th>AVG_Purchase_Price</th>\n",
       "      <th>Ad_Size</th>\n",
       "      <th>Ad_Format</th>\n",
       "      <th>Activity_Tag</th>\n",
       "      <th>Activity_Type</th>\n",
       "      <th>CPI</th>\n",
       "    </tr>\n",
       "  </thead>\n",
       "  <tbody>\n",
       "    <tr>\n",
       "      <th>count</th>\n",
       "      <td>40500</td>\n",
       "      <td>40500</td>\n",
       "      <td>40500</td>\n",
       "      <td>40500</td>\n",
       "      <td>40500</td>\n",
       "      <td>40500</td>\n",
       "      <td>40500</td>\n",
       "      <td>40500</td>\n",
       "      <td>9816</td>\n",
       "      <td>9816</td>\n",
       "      <td>40500</td>\n",
       "    </tr>\n",
       "    <tr>\n",
       "      <th>unique</th>\n",
       "      <td>6</td>\n",
       "      <td>16</td>\n",
       "      <td>18150</td>\n",
       "      <td>4</td>\n",
       "      <td>4</td>\n",
       "      <td>4</td>\n",
       "      <td>6</td>\n",
       "      <td>3</td>\n",
       "      <td>1</td>\n",
       "      <td>2</td>\n",
       "      <td>6</td>\n",
       "    </tr>\n",
       "    <tr>\n",
       "      <th>top</th>\n",
       "      <td>325</td>\n",
       "      <td>3718</td>\n",
       "      <td>15224</td>\n",
       "      <td>10002</td>\n",
       "      <td>Weather</td>\n",
       "      <td>150.00</td>\n",
       "      <td>300x600</td>\n",
       "      <td>Standard</td>\n",
       "      <td>pur_conf</td>\n",
       "      <td>1</td>\n",
       "      <td>8.00</td>\n",
       "    </tr>\n",
       "    <tr>\n",
       "      <th>freq</th>\n",
       "      <td>11700</td>\n",
       "      <td>4500</td>\n",
       "      <td>6</td>\n",
       "      <td>13500</td>\n",
       "      <td>13500</td>\n",
       "      <td>13500</td>\n",
       "      <td>11700</td>\n",
       "      <td>35100</td>\n",
       "      <td>9816</td>\n",
       "      <td>6246</td>\n",
       "      <td>13500</td>\n",
       "    </tr>\n",
       "  </tbody>\n",
       "</table>\n",
       "</div>"
      ],
      "text/plain": [
       "        Ad_ID Placement_ID Cookie_ID Category_ID Category AVG_Purchase_Price  \\\n",
       "count   40500        40500     40500       40500    40500              40500   \n",
       "unique      6           16     18150           4        4                  4   \n",
       "top       325         3718     15224       10002  Weather             150.00   \n",
       "freq    11700         4500         6       13500    13500              13500   \n",
       "\n",
       "        Ad_Size Ad_Format Activity_Tag Activity_Type    CPI  \n",
       "count     40500     40500         9816          9816  40500  \n",
       "unique        6         3            1             2      6  \n",
       "top     300x600  Standard     pur_conf             1   8.00  \n",
       "freq      11700     35100         9816          6246  13500  "
      ]
     },
     "execution_count": 94,
     "metadata": {},
     "output_type": "execute_result"
    }
   ],
   "source": [
    "df.describe()"
   ]
  },
  {
   "cell_type": "markdown",
   "metadata": {},
   "source": [
    "We have our data in one place, so now we can check to make sure the data types are correct for our analysis."
   ]
  },
  {
   "cell_type": "code",
   "execution_count": 95,
   "metadata": {},
   "outputs": [
    {
     "name": "stdout",
     "output_type": "stream",
     "text": [
      "<class 'pandas.core.frame.DataFrame'>\n",
      "RangeIndex: 40500 entries, 0 to 40499\n",
      "Data columns (total 11 columns):\n",
      "Ad_ID                 40500 non-null object\n",
      "Placement_ID          40500 non-null object\n",
      "Cookie_ID             40500 non-null object\n",
      "Category_ID           40500 non-null object\n",
      "Category              40500 non-null object\n",
      "AVG_Purchase_Price    40500 non-null object\n",
      "Ad_Size               40500 non-null object\n",
      "Ad_Format             40500 non-null object\n",
      "Activity_Tag          9816 non-null object\n",
      "Activity_Type         9816 non-null object\n",
      "CPI                   40500 non-null object\n",
      "dtypes: object(11)\n",
      "memory usage: 3.4+ MB\n"
     ]
    }
   ],
   "source": [
    "df.info()"
   ]
  },
  {
   "cell_type": "code",
   "execution_count": 119,
   "metadata": {
    "collapsed": true
   },
   "outputs": [],
   "source": [
    "#Change data types in order to have Python recognize data and save space.\n",
    "df['Ad_ID'] = df['Ad_ID'].astype('category')\n",
    "df['Placement_ID'] = df['Placement_ID'].astype('category')\n",
    "df['Cookie_ID'] = df['Cookie_ID'].astype('int')\n",
    "df['Category_ID'] = df['Category_ID'].astype('int')\n",
    "df['Category'] = df['Category'].astype('category')\n",
    "df['AVG_Purchase_Price'] = df['AVG_Purchase_Price'].astype('float')\n",
    "df['Ad_Size'] = df['Ad_Size'].astype('category')\n",
    "df['Ad_Format'] = df['Ad_Format'].astype('category')\n",
    "df['Activity_Tag'] = df['Activity_Tag'].astype('category')\n",
    "df['Activity_Type'] = df['Activity_Type'].astype('category')\n",
    "df['CPI'] = df['CPI'].astype('float')"
   ]
  },
  {
   "cell_type": "code",
   "execution_count": 97,
   "metadata": {},
   "outputs": [
    {
     "name": "stdout",
     "output_type": "stream",
     "text": [
      "<class 'pandas.core.frame.DataFrame'>\n",
      "RangeIndex: 40500 entries, 0 to 40499\n",
      "Data columns (total 11 columns):\n",
      "Ad_ID                 40500 non-null category\n",
      "Placement_ID          40500 non-null category\n",
      "Cookie_ID             40500 non-null int32\n",
      "Category_ID           40500 non-null int32\n",
      "Category              40500 non-null category\n",
      "AVG_Purchase_Price    40500 non-null float64\n",
      "Ad_Size               40500 non-null category\n",
      "Ad_Format             40500 non-null category\n",
      "Activity_Tag          9816 non-null category\n",
      "Activity_Type         9816 non-null category\n",
      "CPI                   40500 non-null float64\n",
      "dtypes: category(7), float64(2), int32(2)\n",
      "memory usage: 1.2 MB\n"
     ]
    }
   ],
   "source": [
    "df.info()"
   ]
  },
  {
   "cell_type": "markdown",
   "metadata": {},
   "source": [
    "Now that we have our data all in one place; I'm going to create some series to take a look at the 2 different activity types. ACTIVITY_TYPE = 1 indicates a view through conversion (users who reached purchase confirmation page without clicking on an ad) and ACTIVITY_TYPE = 2 indicates a click through conversion (users who reached purchase confirmation page after clicking on an ad). For the purposes of this project, we are going to look at activity type 2, because it lets us know how many purchasers through clicking the ad. Our Purchase series it everyone who made a purchase."
   ]
  },
  {
   "cell_type": "code",
   "execution_count": 120,
   "metadata": {
    "collapsed": true
   },
   "outputs": [],
   "source": [
    "#create series to only have data where a purchase was made through clicking on the ad.\n",
    "Purchase_Click = df[(df.Activity_Type == '2')]"
   ]
  },
  {
   "cell_type": "code",
   "execution_count": 121,
   "metadata": {
    "collapsed": true
   },
   "outputs": [],
   "source": [
    "#create series to support data from all purchases.\n",
    "Purchase = df[(df.Activity_Tag == 'pur_conf')]"
   ]
  },
  {
   "cell_type": "code",
   "execution_count": 100,
   "metadata": {},
   "outputs": [
    {
     "data": {
      "text/html": [
       "<div>\n",
       "<style>\n",
       "    .dataframe thead tr:only-child th {\n",
       "        text-align: right;\n",
       "    }\n",
       "\n",
       "    .dataframe thead th {\n",
       "        text-align: left;\n",
       "    }\n",
       "\n",
       "    .dataframe tbody tr th {\n",
       "        vertical-align: top;\n",
       "    }\n",
       "</style>\n",
       "<table border=\"1\" class=\"dataframe\">\n",
       "  <thead>\n",
       "    <tr style=\"text-align: right;\">\n",
       "      <th></th>\n",
       "      <th>Cookie_ID</th>\n",
       "      <th>Category_ID</th>\n",
       "      <th>AVG_Purchase_Price</th>\n",
       "      <th>CPI</th>\n",
       "    </tr>\n",
       "  </thead>\n",
       "  <tbody>\n",
       "    <tr>\n",
       "      <th>count</th>\n",
       "      <td>9816.000000</td>\n",
       "      <td>9816.000000</td>\n",
       "      <td>9816.000000</td>\n",
       "      <td>9816.00000</td>\n",
       "    </tr>\n",
       "    <tr>\n",
       "      <th>mean</th>\n",
       "      <td>10180.107172</td>\n",
       "      <td>10001.759169</td>\n",
       "      <td>173.594132</td>\n",
       "      <td>12.91687</td>\n",
       "    </tr>\n",
       "    <tr>\n",
       "      <th>std</th>\n",
       "      <td>5935.749093</td>\n",
       "      <td>0.998556</td>\n",
       "      <td>51.563036</td>\n",
       "      <td>6.73604</td>\n",
       "    </tr>\n",
       "    <tr>\n",
       "      <th>min</th>\n",
       "      <td>4.000000</td>\n",
       "      <td>10001.000000</td>\n",
       "      <td>50.000000</td>\n",
       "      <td>4.00000</td>\n",
       "    </tr>\n",
       "    <tr>\n",
       "      <th>25%</th>\n",
       "      <td>5093.000000</td>\n",
       "      <td>10001.000000</td>\n",
       "      <td>150.000000</td>\n",
       "      <td>8.00000</td>\n",
       "    </tr>\n",
       "    <tr>\n",
       "      <th>50%</th>\n",
       "      <td>9962.500000</td>\n",
       "      <td>10001.000000</td>\n",
       "      <td>200.000000</td>\n",
       "      <td>12.00000</td>\n",
       "    </tr>\n",
       "    <tr>\n",
       "      <th>75%</th>\n",
       "      <td>15345.000000</td>\n",
       "      <td>10002.000000</td>\n",
       "      <td>200.000000</td>\n",
       "      <td>20.00000</td>\n",
       "    </tr>\n",
       "    <tr>\n",
       "      <th>max</th>\n",
       "      <td>20397.000000</td>\n",
       "      <td>10004.000000</td>\n",
       "      <td>250.000000</td>\n",
       "      <td>48.00000</td>\n",
       "    </tr>\n",
       "  </tbody>\n",
       "</table>\n",
       "</div>"
      ],
      "text/plain": [
       "          Cookie_ID   Category_ID  AVG_Purchase_Price         CPI\n",
       "count   9816.000000   9816.000000         9816.000000  9816.00000\n",
       "mean   10180.107172  10001.759169          173.594132    12.91687\n",
       "std     5935.749093      0.998556           51.563036     6.73604\n",
       "min        4.000000  10001.000000           50.000000     4.00000\n",
       "25%     5093.000000  10001.000000          150.000000     8.00000\n",
       "50%     9962.500000  10001.000000          200.000000    12.00000\n",
       "75%    15345.000000  10002.000000          200.000000    20.00000\n",
       "max    20397.000000  10004.000000          250.000000    48.00000"
      ]
     },
     "execution_count": 100,
     "metadata": {},
     "output_type": "execute_result"
    }
   ],
   "source": [
    "Purchase.describe()"
   ]
  },
  {
   "cell_type": "markdown",
   "metadata": {},
   "source": [
    "# Popular Ad Size"
   ]
  },
  {
   "cell_type": "markdown",
   "metadata": {},
   "source": [
    "###### ---Overview of Ad_Size--- "
   ]
  },
  {
   "cell_type": "markdown",
   "metadata": {},
   "source": [
    "The ads with the highest click-to-purchase rates are Ad_Size 970x250 with 16%, Ad_size 500x600 with 12% and Ad_Size 300x600 with 11.44%."
   ]
  },
  {
   "cell_type": "code",
   "execution_count": 101,
   "metadata": {},
   "outputs": [
    {
     "data": {
      "text/plain": [
       "<matplotlib.text.Text at 0x13fb94a8>"
      ]
     },
     "execution_count": 101,
     "metadata": {},
     "output_type": "execute_result"
    },
    {
     "data": {
      "image/png": "[encoded data removed]",
      "text/plain": [
       "<matplotlib.figure.Figure at 0x12d0a7f0>"
      ]
     },
     "metadata": {},
     "output_type": "display_data"
    }
   ],
   "source": [
    "#plot number of total impressions for each ad size\n",
    "sns.countplot(x=\"Ad_Size\", data=df)\n",
    "plt.title('Total Impressions')"
   ]
  },
  {
   "cell_type": "code",
   "execution_count": 102,
   "metadata": {},
   "outputs": [
    {
     "data": {
      "text/plain": [
       "<matplotlib.text.Text at 0x15980e80>"
      ]
     },
     "execution_count": 102,
     "metadata": {},
     "output_type": "execute_result"
    },
    {
     "data": {
      "image/png": "[encoded data removed]",
      "text/plain": [
       "<matplotlib.figure.Figure at 0x1459f390>"
      ]
     },
     "metadata": {},
     "output_type": "display_data"
    }
   ],
   "source": [
    "#plot number of clicks that led to purchases\n",
    "sns.countplot(x=\"Ad_Size\", data=Purchase_Click);\n",
    "plt.title('Total Purchases Through Clicks')"
   ]
  },
  {
   "cell_type": "code",
   "execution_count": 103,
   "metadata": {},
   "outputs": [
    {
     "data": {
      "text/plain": [
       "<matplotlib.text.Text at 0x13b084a8>"
      ]
     },
     "execution_count": 103,
     "metadata": {},
     "output_type": "execute_result"
    },
    {
     "data": {
      "image/png": "[encoded data removed]",
      "text/plain": [
       "<matplotlib.figure.Figure at 0x148a82e8>"
      ]
     },
     "metadata": {},
     "output_type": "display_data"
    }
   ],
   "source": [
    "#plot total purchases made\n",
    "sns.countplot(x=\"Ad_Size\", data=Purchase);\n",
    "plt.title('Total Purchases')"
   ]
  },
  {
   "cell_type": "code",
   "execution_count": 150,
   "metadata": {},
   "outputs": [
    {
     "name": "stdout",
     "output_type": "stream",
     "text": [
      "300x250 click-to-purchase %: 7.94871794872\n",
      "300x600 click-to-purchase %: 11.4358974359\n",
      "500x600 click-to-purchase %: 12.0\n",
      "728x90 click-to-purchase %: 5.28205128205\n",
      "970x250 click-to-purchase %: 16.0\n",
      "video click-to-purchase %: 6.0\n"
     ]
    }
   ],
   "source": [
    "# AD_SIZE 300x250\n",
    "#create series for purchases, click_to_purchases, and full impressions for ad size 300x250\n",
    "purchase_300x250 = Purchase[(Purchase.Ad_Size == '300x250')]\n",
    "click_300x250 = Purchase_Click[(Purchase_Click.Ad_Size == '300x250')]\n",
    "impression_300x250 = df[(df.Ad_Size == '300x250')]\n",
    "\n",
    "#find click to purchase rate for ad 300x250\n",
    "click_to_purchase_rate_300x250 = len(click_300x250)/float(len(impression_300x250)) * 100\n",
    "print \"300x250 click-to-purchase %:\",click_to_purchase_rate_300x250\n",
    "\n",
    "\n",
    "# AD_SIZE 300x600\n",
    "#create series for purchases, click_to_purchases, and full impressions for ad size 300x600\n",
    "purchase_300x600 = Purchase[(Purchase.Ad_Size == '300x600')]\n",
    "click_300x600 = Purchase_Click[(Purchase_Click.Ad_Size == '300x600')]\n",
    "impression_300x600 = df[(df.Ad_Size == '300x600')]\n",
    "\n",
    "#find click to purchase rate for ad 300x600\n",
    "click_to_purchase_rate_300x600 = len(click_300x600)/float(len(impression_300x600)) * 100\n",
    "print \"300x600 click-to-purchase %:\",click_to_purchase_rate_300x600\n",
    "\n",
    "\n",
    "# AD_SIZE 500x600\n",
    "#create series for purchases, click_to_purchases, and full impressions for ad size 500x600\n",
    "purchase_500x600 = Purchase[(Purchase.Ad_Size == '500x600')]\n",
    "click_500x600 = Purchase_Click[(Purchase_Click.Ad_Size == '500x600')]\n",
    "impression_500x600 = df[(df.Ad_Size == '500x600')]\n",
    "\n",
    "#find click to purchase rate for ad 300x600\n",
    "click_to_purchase_rate_500x600 = len(click_500x600)/float(len(impression_500x600)) * 100\n",
    "print \"500x600 click-to-purchase %:\",click_to_purchase_rate_500x600\n",
    "\n",
    "\n",
    "# AD_SIZE 728x90\n",
    "#create series for purchases, click_to_purchases, and full impressions for ad size 728x90\n",
    "purchase_728x90 = Purchase[(Purchase.Ad_Size == '728x90')]\n",
    "click_728x90 = Purchase_Click[(Purchase_Click.Ad_Size == '728x90')]\n",
    "impression_728x90 = df[(df.Ad_Size == '728x90')]\n",
    "\n",
    "#find click to purchase rate for ad 300x600\n",
    "click_to_purchase_rate_728x90 = len(click_728x90)/float(len(impression_728x90)) * 100\n",
    "print \"728x90 click-to-purchase %:\",click_to_purchase_rate_728x90\n",
    "\n",
    "\n",
    "# AD_SIZE 970x250\n",
    "#create series for purchases, click_to_purchases, and full impressions for ad size 970x250\n",
    "purchase_970x250 = Purchase[(Purchase.Ad_Size == '970x250')]\n",
    "click_970x250 = Purchase_Click[(Purchase_Click.Ad_Size == '970x250')]\n",
    "impression_970x250 = df[(df.Ad_Size == '970x250')]\n",
    "\n",
    "#find click to purchase rate for ad 970x250\n",
    "click_to_purchase_rate_970x250 = len(click_970x250)/float(len(impression_970x250)) * 100\n",
    "print \"970x250 click-to-purchase %:\",click_to_purchase_rate_970x250\n",
    "\n",
    "\n",
    "# AD_SIZE :15s\n",
    "#create series for purchases, click_to_purchases, and full impressions for ad size :15s\n",
    "purchase_vid = Purchase[(Purchase.Ad_Size == ':15s')]\n",
    "click_vid = Purchase_Click[(Purchase_Click.Ad_Size == ':15s')]\n",
    "impression_vid = df[(df.Ad_Size == ':15s')]\n",
    "\n",
    "#find click to purchase rate for ad :15s\n",
    "click_to_purchase_rate_vid = len(click_vid)/float(len(impression_vid)) * 100\n",
    "print \"video click-to-purchase %:\",click_to_purchase_rate_vid"
   ]
  },
  {
   "cell_type": "code",
   "execution_count": 151,
   "metadata": {},
   "outputs": [
    {
     "data": {
      "text/html": [
       "<div>\n",
       "<style>\n",
       "    .dataframe thead tr:only-child th {\n",
       "        text-align: right;\n",
       "    }\n",
       "\n",
       "    .dataframe thead th {\n",
       "        text-align: left;\n",
       "    }\n",
       "\n",
       "    .dataframe tbody tr th {\n",
       "        vertical-align: top;\n",
       "    }\n",
       "</style>\n",
       "<table border=\"1\" class=\"dataframe\">\n",
       "  <thead>\n",
       "    <tr style=\"text-align: right;\">\n",
       "      <th></th>\n",
       "      <th>Ad_Size</th>\n",
       "      <th>Click-to-purchase</th>\n",
       "    </tr>\n",
       "  </thead>\n",
       "  <tbody>\n",
       "    <tr>\n",
       "      <th>0</th>\n",
       "      <td>300x250</td>\n",
       "      <td>7.948718</td>\n",
       "    </tr>\n",
       "    <tr>\n",
       "      <th>1</th>\n",
       "      <td>300x600</td>\n",
       "      <td>11.435897</td>\n",
       "    </tr>\n",
       "    <tr>\n",
       "      <th>2</th>\n",
       "      <td>500x600</td>\n",
       "      <td>12.000000</td>\n",
       "    </tr>\n",
       "    <tr>\n",
       "      <th>3</th>\n",
       "      <td>728x90</td>\n",
       "      <td>5.282051</td>\n",
       "    </tr>\n",
       "    <tr>\n",
       "      <th>4</th>\n",
       "      <td>970x250</td>\n",
       "      <td>16.000000</td>\n",
       "    </tr>\n",
       "    <tr>\n",
       "      <th>5</th>\n",
       "      <td>video</td>\n",
       "      <td>6.000000</td>\n",
       "    </tr>\n",
       "  </tbody>\n",
       "</table>\n",
       "</div>"
      ],
      "text/plain": [
       "   Ad_Size  Click-to-purchase\n",
       "0  300x250           7.948718\n",
       "1  300x600          11.435897\n",
       "2  500x600          12.000000\n",
       "3   728x90           5.282051\n",
       "4  970x250          16.000000\n",
       "5    video           6.000000"
      ]
     },
     "execution_count": 151,
     "metadata": {},
     "output_type": "execute_result"
    }
   ],
   "source": [
    "ad_size_click = {'Ad_Size': ['300x250', '300x600', '500x600', '728x90', '970x250', 'video'],'Click-to-purchase': [click_to_purchase_rate_300x250, click_to_purchase_rate_300x600, click_to_purchase_rate_500x600, click_to_purchase_rate_728x90, click_to_purchase_rate_970x250, click_to_purchase_rate_vid]}\n",
    "CTR_df = pd.DataFrame(data=ad_size_click)\n",
    "CTR_df"
   ]
  },
  {
   "cell_type": "code",
   "execution_count": 152,
   "metadata": {},
   "outputs": [
    {
     "data": {
      "text/plain": [
       "<matplotlib.text.Text at 0x184f1860>"
      ]
     },
     "execution_count": 152,
     "metadata": {},
     "output_type": "execute_result"
    },
    {
     "data": {
      "image/png": "[encoded data removed]",
      "text/plain": [
       "<matplotlib.figure.Figure at 0x133b1c50>"
      ]
     },
     "metadata": {},
     "output_type": "display_data"
    }
   ],
   "source": [
    "sns.barplot(x=\"Ad_Size\", y=\"Click-to-purchase\", data=CTR_df);\n",
    "plt.title('The Largest Ads have the highest click-rate')"
   ]
  },
  {
   "cell_type": "code",
   "execution_count": 153,
   "metadata": {},
   "outputs": [
    {
     "name": "stdout",
     "output_type": "stream",
     "text": [
      "300x250 purchase %: 20.358974359\n",
      "300x600 purchase %: 23.8461538462\n",
      "500x600 purchase %: 44.4\n",
      "728x90 purchase %: 17.6923076923\n",
      "970x250 purchase %: 64.0\n",
      "video purchase %: 15.0\n"
     ]
    }
   ],
   "source": [
    "# AD_SIZE 300x250\n",
    "#create series for purchases, click_to_purchases, and full impressions for ad size 300x250\n",
    "purchase_300x250 = Purchase[(Purchase.Ad_Size == '300x250')]\n",
    "click_300x250 = Purchase_Click[(Purchase_Click.Ad_Size == '300x250')]\n",
    "impression_300x250 = df[(df.Ad_Size == '300x250')]\n",
    "\n",
    "#find full purchase rate of ad size 300x250\n",
    "purchase_rate_300x250 = len(purchase_300x250)/float(len(impression_300x250)) * 100\n",
    "print \"300x250 purchase %:\",purchase_rate_300x250\n",
    "\n",
    "\n",
    "\n",
    "# AD_SIZE 300x600\n",
    "#create series for purchases, click_to_purchases, and full impressions for ad size 300x600\n",
    "purchase_300x600 = Purchase[(Purchase.Ad_Size == '300x600')]\n",
    "click_300x600 = Purchase_Click[(Purchase_Click.Ad_Size == '300x600')]\n",
    "impression_300x600 = df[(df.Ad_Size == '300x600')]\n",
    "\n",
    "#find full purchase rate of ad size 300x600\n",
    "purchase_rate_300x600 = len(purchase_300x600)/float(len(impression_300x600)) * 100\n",
    "print \"300x600 purchase %:\",purchase_rate_300x600\n",
    "\n",
    "\n",
    "\n",
    "# AD_SIZE 500x600\n",
    "#create series for purchases, click_to_purchases, and full impressions for ad size 500x600\n",
    "purchase_500x600 = Purchase[(Purchase.Ad_Size == '500x600')]\n",
    "click_500x600 = Purchase_Click[(Purchase_Click.Ad_Size == '500x600')]\n",
    "impression_500x600 = df[(df.Ad_Size == '500x600')]\n",
    "\n",
    "#find full purchase rate of ad size 500x600\n",
    "purchase_rate_500x600 = len(purchase_500x600)/float(len(impression_500x600)) * 100\n",
    "print \"500x600 purchase %:\",purchase_rate_500x600\n",
    "\n",
    "\n",
    "\n",
    "# AD_SIZE 728x90\n",
    "#create series for purchases, click_to_purchases, and full impressions for ad size 728x90\n",
    "purchase_728x90 = Purchase[(Purchase.Ad_Size == '728x90')]\n",
    "click_728x90 = Purchase_Click[(Purchase_Click.Ad_Size == '728x90')]\n",
    "impression_728x90 = df[(df.Ad_Size == '728x90')]\n",
    "\n",
    "#find full purchase rate of ad size 500x600\n",
    "purchase_rate_728x90 = len(purchase_728x90)/float(len(impression_728x90)) * 100\n",
    "print \"728x90 purchase %:\",purchase_rate_728x90\n",
    "\n",
    "\n",
    "\n",
    "# AD_SIZE 970x250\n",
    "#create series for purchases, click_to_purchases, and full impressions for ad size 970x250\n",
    "purchase_970x250 = Purchase[(Purchase.Ad_Size == '970x250')]\n",
    "click_970x250 = Purchase_Click[(Purchase_Click.Ad_Size == '970x250')]\n",
    "impression_970x250 = df[(df.Ad_Size == '970x250')]\n",
    "\n",
    "#find full purchase rate of ad size 970x250\n",
    "purchase_rate_970x250 = len(purchase_970x250)/float(len(impression_970x250)) * 100\n",
    "print \"970x250 purchase %:\",purchase_rate_970x250\n",
    "\n",
    "\n",
    "\n",
    "# AD_SIZE :15s\n",
    "#create series for purchases, click_to_purchases, and full impressions for ad size :15s\n",
    "purchase_vid = Purchase[(Purchase.Ad_Size == ':15s')]\n",
    "click_vid = Purchase_Click[(Purchase_Click.Ad_Size == ':15s')]\n",
    "impression_vid = df[(df.Ad_Size == ':15s')]\n",
    "\n",
    "#find full purchase rate of ad size :15s\n",
    "purchase_rate_vid = len(purchase_vid)/float(len(impression_vid)) * 100\n",
    "print \"video purchase %:\",purchase_rate_vid"
   ]
  },
  {
   "cell_type": "code",
   "execution_count": 154,
   "metadata": {},
   "outputs": [
    {
     "data": {
      "text/html": [
       "<div>\n",
       "<style>\n",
       "    .dataframe thead tr:only-child th {\n",
       "        text-align: right;\n",
       "    }\n",
       "\n",
       "    .dataframe thead th {\n",
       "        text-align: left;\n",
       "    }\n",
       "\n",
       "    .dataframe tbody tr th {\n",
       "        vertical-align: top;\n",
       "    }\n",
       "</style>\n",
       "<table border=\"1\" class=\"dataframe\">\n",
       "  <thead>\n",
       "    <tr style=\"text-align: right;\">\n",
       "      <th></th>\n",
       "      <th>Ad_Size</th>\n",
       "      <th>purchase</th>\n",
       "    </tr>\n",
       "  </thead>\n",
       "  <tbody>\n",
       "    <tr>\n",
       "      <th>0</th>\n",
       "      <td>300x250</td>\n",
       "      <td>20.358974</td>\n",
       "    </tr>\n",
       "    <tr>\n",
       "      <th>1</th>\n",
       "      <td>300x600</td>\n",
       "      <td>23.846154</td>\n",
       "    </tr>\n",
       "    <tr>\n",
       "      <th>2</th>\n",
       "      <td>500x600</td>\n",
       "      <td>44.400000</td>\n",
       "    </tr>\n",
       "    <tr>\n",
       "      <th>3</th>\n",
       "      <td>728x90</td>\n",
       "      <td>17.692308</td>\n",
       "    </tr>\n",
       "    <tr>\n",
       "      <th>4</th>\n",
       "      <td>970x250</td>\n",
       "      <td>64.000000</td>\n",
       "    </tr>\n",
       "    <tr>\n",
       "      <th>5</th>\n",
       "      <td>video</td>\n",
       "      <td>15.000000</td>\n",
       "    </tr>\n",
       "  </tbody>\n",
       "</table>\n",
       "</div>"
      ],
      "text/plain": [
       "   Ad_Size   purchase\n",
       "0  300x250  20.358974\n",
       "1  300x600  23.846154\n",
       "2  500x600  44.400000\n",
       "3   728x90  17.692308\n",
       "4  970x250  64.000000\n",
       "5    video  15.000000"
      ]
     },
     "execution_count": 154,
     "metadata": {},
     "output_type": "execute_result"
    }
   ],
   "source": [
    "ad_size_pur = {'Ad_Size': ['300x250', '300x600', '500x600', '728x90', '970x250', 'video'],'purchase': [purchase_rate_300x250, purchase_rate_300x600, purchase_rate_500x600, purchase_rate_728x90, purchase_rate_970x250, purchase_rate_vid]}\n",
    "pur_df = pd.DataFrame(data=ad_size_pur)\n",
    "pur_df"
   ]
  },
  {
   "cell_type": "code",
   "execution_count": 155,
   "metadata": {},
   "outputs": [
    {
     "data": {
      "text/plain": [
       "<matplotlib.text.Text at 0x160c86d8>"
      ]
     },
     "execution_count": 155,
     "metadata": {},
     "output_type": "execute_result"
    },
    {
     "data": {
      "image/png": "[encoded data removed]",
      "text/plain": [
       "<matplotlib.figure.Figure at 0x19321d30>"
      ]
     },
     "metadata": {},
     "output_type": "display_data"
    }
   ],
   "source": [
    "sns.barplot(x=\"Ad_Size\", y=\"purchase\", data=pur_df);\n",
    "plt.title('Ad_Size 970x250 has the highest overall % purchase rate')"
   ]
  },
  {
   "cell_type": "markdown",
   "metadata": {},
   "source": [
    "# Ad Placement"
   ]
  },
  {
   "cell_type": "code",
   "execution_count": 278,
   "metadata": {},
   "outputs": [
    {
     "data": {
      "text/plain": [
       "<matplotlib.text.Text at 0x2469f550>"
      ]
     },
     "execution_count": 278,
     "metadata": {},
     "output_type": "execute_result"
    },
    {
     "data": {
      "image/png": "[encoded data removed]",
      "text/plain": [
       "<matplotlib.figure.Figure at 0x244be2b0>"
      ]
     },
     "metadata": {},
     "output_type": "display_data"
    }
   ],
   "source": [
    "sns.set(style=\"whitegrid\")\n",
    "#create a factor plot to show the pricing and cost of each Ad-Placement\n",
    "g = sns.factorplot(x=\"AVG_Purchase_Price\", y=\"Placement_ID\", hue=\"Category\", data=df,\n",
    "                   size=6, kind=\"bar\", palette=\"muted\")\n",
    "g.despine(left=True)\n",
    "g.set_ylabels(\"Placement_ID\")\n",
    "plt.title('Show Placement ID and Category')"
   ]
  },
  {
   "cell_type": "code",
   "execution_count": 167,
   "metadata": {},
   "outputs": [
    {
     "data": {
      "text/plain": [
       "<matplotlib.text.Text at 0x1c76cc18>"
      ]
     },
     "execution_count": 167,
     "metadata": {},
     "output_type": "execute_result"
    },
    {
     "data": {
      "image/png": "[encoded data removed]",
      "text/plain": [
       "<matplotlib.figure.Figure at 0x1c3137b8>"
      ]
     },
     "metadata": {},
     "output_type": "display_data"
    }
   ],
   "source": [
    "#plot number of total impressions for each ad size\n",
    "sns.countplot(y=\"Placement_ID\", data=df)\n",
    "plt.title('Total Impressions')"
   ]
  },
  {
   "cell_type": "code",
   "execution_count": 169,
   "metadata": {},
   "outputs": [
    {
     "data": {
      "text/plain": [
       "<matplotlib.text.Text at 0x1cce3da0>"
      ]
     },
     "execution_count": 169,
     "metadata": {},
     "output_type": "execute_result"
    },
    {
     "data": {
      "image/png": "[encoded data removed]",
      "text/plain": [
       "<matplotlib.figure.Figure at 0x1c5d1668>"
      ]
     },
     "metadata": {},
     "output_type": "display_data"
    }
   ],
   "source": [
    "#plot number of total impressions for each ad size\n",
    "sns.countplot(y=\"Placement_ID\", data=Purchase)\n",
    "plt.title('Total Purchases')"
   ]
  },
  {
   "cell_type": "code",
   "execution_count": 171,
   "metadata": {},
   "outputs": [
    {
     "data": {
      "text/plain": [
       "<matplotlib.text.Text at 0x1d20abe0>"
      ]
     },
     "execution_count": 171,
     "metadata": {},
     "output_type": "execute_result"
    },
    {
     "data": {
      "image/png": "[encoded data removed]",
      "text/plain": [
       "<matplotlib.figure.Figure at 0x1c860358>"
      ]
     },
     "metadata": {},
     "output_type": "display_data"
    }
   ],
   "source": [
    "#plot number of total impressions for each ad size\n",
    "sns.countplot(y=\"Placement_ID\", data=Purchase_Click)\n",
    "plt.title('Total Purchases Throuugh Clicks')"
   ]
  },
  {
   "cell_type": "code",
   "execution_count": 193,
   "metadata": {},
   "outputs": [
    {
     "name": "stdout",
     "output_type": "stream",
     "text": [
      "3712 click-to-purchase %: 8.0\n",
      "3713 click-to-purchase %: 4.0\n",
      "3714 click-to-purchase %: 16.0\n",
      "3715 click-to-purchase %: 16.0\n",
      "3716 click-to-purchase %: 16.0\n",
      "3717 click-to-purchase %: 10.0\n",
      "3718 click-to-purchase %: 6.0\n",
      "3719 click-to-purchase %: 14.0\n",
      "3720 click-to-purchase %: 6.0\n",
      "3721 click-to-purchase %: 4.0\n",
      "3722 click-to-purchase %: 8.0\n",
      "3723 click-to-purchase %: 6.0\n",
      "3724 click-to-purchase %: 6.0\n",
      "3725 click-to-purchase %: 6.0\n",
      "3726 click-to-purchase %: 6.0\n",
      "3727 click-to-purchase %: 6.0\n"
     ]
    }
   ],
   "source": [
    "# AD_Placement 3712\n",
    "#create series for purchases, click_to_purchases, and full impressions for ad placement 3712\n",
    "purchase_3712 = Purchase[(Purchase.Placement_ID == '3712')]\n",
    "click_3712 = Purchase_Click[(Purchase_Click.Placement_ID == '3712')]\n",
    "impression_3712 = df[(df.Placement_ID == '3712')]\n",
    "\n",
    "#find click to purchase rate for placement 3712\n",
    "click_to_purchase_rate_3712 = len(click_3712)/float(len(impression_3712)) * 100\n",
    "print \"3712 click-to-purchase %:\",click_to_purchase_rate_3712\n",
    "\n",
    "# AD_Placement 3713\n",
    "#create series for purchases, click_to_purchases, and full impressions for ad placement 3713\n",
    "purchase_3713 = Purchase[(Purchase.Placement_ID == '3713')]\n",
    "click_3713 = Purchase_Click[(Purchase_Click.Placement_ID == '3713')]\n",
    "impression_3713 = df[(df.Placement_ID == '3713')]\n",
    "\n",
    "#find click to purchase rate for placement 3713\n",
    "click_to_purchase_rate_3713 = len(click_3713)/float(len(impression_3713)) * 100\n",
    "print \"3713 click-to-purchase %:\",click_to_purchase_rate_3713\n",
    "\n",
    "# AD_Placement 3714\n",
    "#create series for purchases, click_to_purchases, and full impressions for ad placement 3714\n",
    "purchase_3714 = Purchase[(Purchase.Placement_ID == '3714')]\n",
    "click_3714 = Purchase_Click[(Purchase_Click.Placement_ID == '3714')]\n",
    "impression_3714 = df[(df.Placement_ID == '3714')]\n",
    "\n",
    "#find click to purchase rate for placement 3714\n",
    "click_to_purchase_rate_3714 = len(click_3714)/float(len(impression_3714)) * 100\n",
    "print \"3714 click-to-purchase %:\",click_to_purchase_rate_3714\n",
    "\n",
    "# AD_Placement 3715\n",
    "#create series for purchases, click_to_purchases, and full impressions for ad placement 3715\n",
    "purchase_3715 = Purchase[(Purchase.Placement_ID == '3715')]\n",
    "click_3715 = Purchase_Click[(Purchase_Click.Placement_ID == '3715')]\n",
    "impression_3715 = df[(df.Placement_ID == '3715')]\n",
    "\n",
    "#find click to purchase rate for placement 3715\n",
    "click_to_purchase_rate_3715 = len(click_3715)/float(len(impression_3715)) * 100\n",
    "print \"3715 click-to-purchase %:\",click_to_purchase_rate_3715\n",
    "\n",
    "# AD_Placement 3716\n",
    "#create series for purchases, click_to_purchases, and full impressions for ad placement 3716\n",
    "purchase_3716 = Purchase[(Purchase.Placement_ID == '3716')]\n",
    "click_3716 = Purchase_Click[(Purchase_Click.Placement_ID == '3716')]\n",
    "impression_3716 = df[(df.Placement_ID == '3716')]\n",
    "\n",
    "#find click to purchase rate for placement 3716\n",
    "click_to_purchase_rate_3716 = len(click_3716)/float(len(impression_3716)) * 100\n",
    "print \"3716 click-to-purchase %:\",click_to_purchase_rate_3716\n",
    "\n",
    "# AD_Placement 3717\n",
    "#create series for purchases, click_to_purchases, and full impressions for ad placement 3717\n",
    "purchase_3717 = Purchase[(Purchase.Placement_ID == '3717')]\n",
    "click_3717 = Purchase_Click[(Purchase_Click.Placement_ID == '3717')]\n",
    "impression_3717 = df[(df.Placement_ID == '3717')]\n",
    "\n",
    "#find click to purchase rate for placement 3717\n",
    "click_to_purchase_rate_3717 = len(click_3717)/float(len(impression_3717)) * 100\n",
    "print \"3717 click-to-purchase %:\",click_to_purchase_rate_3717\n",
    "\n",
    "# AD_Placement 3718\n",
    "#create series for purchases, click_to_purchases, and full impressions for ad placement 3718\n",
    "purchase_3718 = Purchase[(Purchase.Placement_ID == '3718')]\n",
    "click_3718 = Purchase_Click[(Purchase_Click.Placement_ID == '3718')]\n",
    "impression_3718 = df[(df.Placement_ID == '3718')]\n",
    "\n",
    "#find click to purchase rate for placement 3718\n",
    "click_to_purchase_rate_3718 = len(click_3718)/float(len(impression_3718)) * 100\n",
    "print \"3718 click-to-purchase %:\",click_to_purchase_rate_3718\n",
    "\n",
    "# AD_Placement 3719\n",
    "#create series for purchases, click_to_purchases, and full impressions for ad placement 3719\n",
    "purchase_3719 = Purchase[(Purchase.Placement_ID == '3719')]\n",
    "click_3719 = Purchase_Click[(Purchase_Click.Placement_ID == '3719')]\n",
    "impression_3719 = df[(df.Placement_ID == '3719')]\n",
    "\n",
    "#find click to purchase rate for placement 3719\n",
    "click_to_purchase_rate_3719 = len(click_3719)/float(len(impression_3719)) * 100\n",
    "print \"3719 click-to-purchase %:\",click_to_purchase_rate_3719\n",
    "\n",
    "# AD_Placement 3720\n",
    "#create series for purchases, click_to_purchases, and full impressions for ad placement 3720\n",
    "purchase_3720 = Purchase[(Purchase.Placement_ID == '3720')]\n",
    "click_3720 = Purchase_Click[(Purchase_Click.Placement_ID == '3720')]\n",
    "impression_3720 = df[(df.Placement_ID == '3720')]\n",
    "\n",
    "#find click to purchase rate for placement 3720\n",
    "click_to_purchase_rate_3720 = len(click_3720)/float(len(impression_3720)) * 100\n",
    "print \"3720 click-to-purchase %:\",click_to_purchase_rate_3720\n",
    "\n",
    "# AD_Placement 3721\n",
    "#create series for purchases, click_to_purchases, and full impressions for ad placement 3721\n",
    "purchase_3721 = Purchase[(Purchase.Placement_ID == '3721')]\n",
    "click_3721 = Purchase_Click[(Purchase_Click.Placement_ID == '3721')]\n",
    "impression_3721 = df[(df.Placement_ID == '3721')]\n",
    "\n",
    "#find click to purchase rate for placement 3721\n",
    "click_to_purchase_rate_3721 = len(click_3721)/float(len(impression_3721)) * 100\n",
    "print \"3721 click-to-purchase %:\",click_to_purchase_rate_3721\n",
    "\n",
    "# AD_Placement 3722\n",
    "#create series for purchases, click_to_purchases, and full impressions for ad placement 3722\n",
    "purchase_3722 = Purchase[(Purchase.Placement_ID == '3722')]\n",
    "click_3722 = Purchase_Click[(Purchase_Click.Placement_ID == '3722')]\n",
    "impression_3722 = df[(df.Placement_ID == '3722')]\n",
    "\n",
    "#find click to purchase rate for placement 3722\n",
    "click_to_purchase_rate_3722 = len(click_3722)/float(len(impression_3722)) * 100\n",
    "print \"3722 click-to-purchase %:\",click_to_purchase_rate_3722\n",
    "\n",
    "# AD_Placement 3723\n",
    "#create series for purchases, click_to_purchases, and full impressions for ad placement 3723\n",
    "purchase_3723 = Purchase[(Purchase.Placement_ID == '3723')]\n",
    "click_3723 = Purchase_Click[(Purchase_Click.Placement_ID == '3723')]\n",
    "impression_3723 = df[(df.Placement_ID == '3723')]\n",
    "\n",
    "#find click to purchase rate for placement 3723\n",
    "click_to_purchase_rate_3723 = len(click_3723)/float(len(impression_3723)) * 100\n",
    "print \"3723 click-to-purchase %:\",click_to_purchase_rate_3723\n",
    "\n",
    "# AD_Placement 3724\n",
    "#create series for purchases, click_to_purchases, and full impressions for ad placement 3724\n",
    "purchase_3724 = Purchase[(Purchase.Placement_ID == '3724')]\n",
    "click_3724 = Purchase_Click[(Purchase_Click.Placement_ID == '3724')]\n",
    "impression_3724 = df[(df.Placement_ID == '3724')]\n",
    "\n",
    "#find click to purchase rate for placement 3724\n",
    "click_to_purchase_rate_3724 = len(click_3724)/float(len(impression_3724)) * 100\n",
    "print \"3724 click-to-purchase %:\",click_to_purchase_rate_3724\n",
    "\n",
    "# AD_Placement 3725\n",
    "#create series for purchases, click_to_purchases, and full impressions for ad placement 3725\n",
    "purchase_3725 = Purchase[(Purchase.Placement_ID == '3725')]\n",
    "click_3725 = Purchase_Click[(Purchase_Click.Placement_ID == '3725')]\n",
    "impression_3725 = df[(df.Placement_ID == '3725')]\n",
    "\n",
    "#find click to purchase rate for placement 3725\n",
    "click_to_purchase_rate_3725 = len(click_3725)/float(len(impression_3725)) * 100\n",
    "print \"3725 click-to-purchase %:\",click_to_purchase_rate_3725\n",
    "\n",
    "# AD_Placement 3726\n",
    "#create series for purchases, click_to_purchases, and full impressions for ad placement 3726\n",
    "purchase_3726 = Purchase[(Purchase.Placement_ID == '3726')]\n",
    "click_3726 = Purchase_Click[(Purchase_Click.Placement_ID == '3726')]\n",
    "impression_3726 = df[(df.Placement_ID == '3726')]\n",
    "\n",
    "#find click to purchase rate for placement 3726\n",
    "click_to_purchase_rate_3726 = len(click_3726)/float(len(impression_3726)) * 100\n",
    "print \"3726 click-to-purchase %:\",click_to_purchase_rate_3726\n",
    "\n",
    "# AD_Placement 3727\n",
    "#create series for purchases, click_to_purchases, and full impressions for ad placement 3727\n",
    "purchase_3727 = Purchase[(Purchase.Placement_ID == '3727')]\n",
    "click_3727 = Purchase_Click[(Purchase_Click.Placement_ID == '3727')]\n",
    "impression_3727 = df[(df.Placement_ID == '3727')]\n",
    "\n",
    "#find click to purchase rate for placement 3727\n",
    "click_to_purchase_rate_3727 = len(click_3727)/float(len(impression_3727)) * 100\n",
    "print \"3727 click-to-purchase %:\",click_to_purchase_rate_3727\n"
   ]
  },
  {
   "cell_type": "code",
   "execution_count": 195,
   "metadata": {},
   "outputs": [
    {
     "data": {
      "text/html": [
       "<div>\n",
       "<style>\n",
       "    .dataframe thead tr:only-child th {\n",
       "        text-align: right;\n",
       "    }\n",
       "\n",
       "    .dataframe thead th {\n",
       "        text-align: left;\n",
       "    }\n",
       "\n",
       "    .dataframe tbody tr th {\n",
       "        vertical-align: top;\n",
       "    }\n",
       "</style>\n",
       "<table border=\"1\" class=\"dataframe\">\n",
       "  <thead>\n",
       "    <tr style=\"text-align: right;\">\n",
       "      <th></th>\n",
       "      <th>Click-to-purchase</th>\n",
       "      <th>Placement_ID</th>\n",
       "    </tr>\n",
       "  </thead>\n",
       "  <tbody>\n",
       "    <tr>\n",
       "      <th>0</th>\n",
       "      <td>8.0</td>\n",
       "      <td>3712</td>\n",
       "    </tr>\n",
       "    <tr>\n",
       "      <th>1</th>\n",
       "      <td>4.0</td>\n",
       "      <td>3713</td>\n",
       "    </tr>\n",
       "    <tr>\n",
       "      <th>2</th>\n",
       "      <td>16.0</td>\n",
       "      <td>3714</td>\n",
       "    </tr>\n",
       "    <tr>\n",
       "      <th>3</th>\n",
       "      <td>16.0</td>\n",
       "      <td>3715</td>\n",
       "    </tr>\n",
       "    <tr>\n",
       "      <th>4</th>\n",
       "      <td>16.0</td>\n",
       "      <td>3716</td>\n",
       "    </tr>\n",
       "    <tr>\n",
       "      <th>5</th>\n",
       "      <td>10.0</td>\n",
       "      <td>3717</td>\n",
       "    </tr>\n",
       "    <tr>\n",
       "      <th>6</th>\n",
       "      <td>6.0</td>\n",
       "      <td>3718</td>\n",
       "    </tr>\n",
       "    <tr>\n",
       "      <th>7</th>\n",
       "      <td>14.0</td>\n",
       "      <td>3719</td>\n",
       "    </tr>\n",
       "    <tr>\n",
       "      <th>8</th>\n",
       "      <td>6.0</td>\n",
       "      <td>3720</td>\n",
       "    </tr>\n",
       "    <tr>\n",
       "      <th>9</th>\n",
       "      <td>4.0</td>\n",
       "      <td>3721</td>\n",
       "    </tr>\n",
       "    <tr>\n",
       "      <th>10</th>\n",
       "      <td>8.0</td>\n",
       "      <td>3722</td>\n",
       "    </tr>\n",
       "    <tr>\n",
       "      <th>11</th>\n",
       "      <td>6.0</td>\n",
       "      <td>3723</td>\n",
       "    </tr>\n",
       "    <tr>\n",
       "      <th>12</th>\n",
       "      <td>6.0</td>\n",
       "      <td>3724</td>\n",
       "    </tr>\n",
       "    <tr>\n",
       "      <th>13</th>\n",
       "      <td>6.0</td>\n",
       "      <td>3725</td>\n",
       "    </tr>\n",
       "    <tr>\n",
       "      <th>14</th>\n",
       "      <td>6.0</td>\n",
       "      <td>3726</td>\n",
       "    </tr>\n",
       "    <tr>\n",
       "      <th>15</th>\n",
       "      <td>6.0</td>\n",
       "      <td>3727</td>\n",
       "    </tr>\n",
       "  </tbody>\n",
       "</table>\n",
       "</div>"
      ],
      "text/plain": [
       "    Click-to-purchase Placement_ID\n",
       "0                 8.0         3712\n",
       "1                 4.0         3713\n",
       "2                16.0         3714\n",
       "3                16.0         3715\n",
       "4                16.0         3716\n",
       "5                10.0         3717\n",
       "6                 6.0         3718\n",
       "7                14.0         3719\n",
       "8                 6.0         3720\n",
       "9                 4.0         3721\n",
       "10                8.0         3722\n",
       "11                6.0         3723\n",
       "12                6.0         3724\n",
       "13                6.0         3725\n",
       "14                6.0         3726\n",
       "15                6.0         3727"
      ]
     },
     "execution_count": 195,
     "metadata": {},
     "output_type": "execute_result"
    }
   ],
   "source": [
    "Placement = {'Placement_ID': ['3712', '3713', '3714', '3715', '3716', '3717','3718','3719','3720','3721','3722','3723','3724','3725','3726','3727'],'Click-to-purchase': [click_to_purchase_rate_3712, click_to_purchase_rate_3713, click_to_purchase_rate_3714, click_to_purchase_rate_3715, click_to_purchase_rate_3716, click_to_purchase_rate_3717,click_to_purchase_rate_3718,click_to_purchase_rate_3719,click_to_purchase_rate_3720,click_to_purchase_rate_3721,click_to_purchase_rate_3722,click_to_purchase_rate_3723,click_to_purchase_rate_3724,click_to_purchase_rate_3725,click_to_purchase_rate_3726,click_to_purchase_rate_3727]}\n",
    "CTP_df = pd.DataFrame(data=Placement)\n",
    "CTP_df"
   ]
  },
  {
   "cell_type": "code",
   "execution_count": 197,
   "metadata": {},
   "outputs": [
    {
     "data": {
      "text/plain": [
       "<matplotlib.text.Text at 0x1eca8080>"
      ]
     },
     "execution_count": 197,
     "metadata": {},
     "output_type": "execute_result"
    },
    {
     "data": {
      "image/png": "[encoded data removed]",
      "text/plain": [
       "<matplotlib.figure.Figure at 0x1ec83a90>"
      ]
     },
     "metadata": {},
     "output_type": "display_data"
    }
   ],
   "source": [
    "sns.barplot(x=\"Placement_ID\", y=\"Click-to-purchase\", data=CTP_df);\n",
    "plt.title('3714, 3715, 3716 have the highest click-to-purchase %')"
   ]
  },
  {
   "cell_type": "code",
   "execution_count": 192,
   "metadata": {},
   "outputs": [
    {
     "name": "stdout",
     "output_type": "stream",
     "text": [
      "3712 purchase %: 40.0\n",
      "3713 purchase %: 36.0\n",
      "3714 purchase %: 48.0\n",
      "3715 purchase %: 64.0\n",
      "3716 purchase %: 64.0\n",
      "3717 purchase %: 20.0\n",
      "3718 purchase %: 16.0\n",
      "3719 purchase %: 24.0\n",
      "3720 purchase %: 9.0\n",
      "3721 purchase %: 7.0\n",
      "3722 purchase %: 11.0\n",
      "3723 purchase %: 15.0\n",
      "3724 purchase %: 15.0\n",
      "3725 purchase %: 12.0\n",
      "3726 purchase %: 12.0\n",
      "3727 purchase %: 12.0\n"
     ]
    }
   ],
   "source": [
    "# AD_Placement 3712\n",
    "#create series for purchases, click_to_purchases, and full impressions for ad placement 3712\n",
    "purchase_3712 = Purchase[(Purchase.Placement_ID == '3712')]\n",
    "click_3712 = Purchase_Click[(Purchase_Click.Placement_ID == '3712')]\n",
    "impression_3712 = df[(df.Placement_ID == '3712')]\n",
    "\n",
    "#find full purchase rate of ad placement 3712\n",
    "purchase_rate_3712 = len(purchase_3712)/float(len(impression_3712)) * 100\n",
    "print \"3712 purchase %:\",purchase_rate_3712\n",
    "\n",
    "# AD_Placement 3713\n",
    "#create series for purchases, click_to_purchases, and full impressions for ad placement 3713\n",
    "purchase_3713 = Purchase[(Purchase.Placement_ID == '3713')]\n",
    "click_3713 = Purchase_Click[(Purchase_Click.Placement_ID == '3713')]\n",
    "impression_3713 = df[(df.Placement_ID == '3713')]\n",
    "\n",
    "#find full purchase rate of ad placement 3713\n",
    "purchase_rate_3713 = len(purchase_3713)/float(len(impression_3713)) * 100\n",
    "print \"3713 purchase %:\",purchase_rate_3713\n",
    "\n",
    "# AD_Placement 3714\n",
    "#create series for purchases, click_to_purchases, and full impressions for ad placement 3714\n",
    "purchase_3714 = Purchase[(Purchase.Placement_ID == '3714')]\n",
    "click_3714 = Purchase_Click[(Purchase_Click.Placement_ID == '3714')]\n",
    "impression_3714 = df[(df.Placement_ID == '3714')]\n",
    "\n",
    "#find full purchase rate of ad placement 3714\n",
    "purchase_rate_3714 = len(purchase_3714)/float(len(impression_3714)) * 100\n",
    "print \"3714 purchase %:\",purchase_rate_3714\n",
    "\n",
    "# AD_Placement 3715\n",
    "#create series for purchases, click_to_purchases, and full impressions for ad placement 3715\n",
    "purchase_3715 = Purchase[(Purchase.Placement_ID == '3715')]\n",
    "click_3715 = Purchase_Click[(Purchase_Click.Placement_ID == '3715')]\n",
    "impression_3715 = df[(df.Placement_ID == '3715')]\n",
    "\n",
    "#find full purchase rate of ad placement 3715\n",
    "purchase_rate_3715 = len(purchase_3715)/float(len(impression_3715)) * 100\n",
    "print \"3715 purchase %:\",purchase_rate_3715\n",
    "\n",
    "# AD_Placement 3716\n",
    "#create series for purchases, click_to_purchases, and full impressions for ad placement 3716\n",
    "purchase_3716 = Purchase[(Purchase.Placement_ID == '3716')]\n",
    "click_3716 = Purchase_Click[(Purchase_Click.Placement_ID == '3716')]\n",
    "impression_3716 = df[(df.Placement_ID == '3716')]\n",
    "\n",
    "#find full purchase rate of ad placement 3716\n",
    "purchase_rate_3716 = len(purchase_3716)/float(len(impression_3716)) * 100\n",
    "print \"3716 purchase %:\",purchase_rate_3716\n",
    "\n",
    "# AD_Placement 3717\n",
    "#create series for purchases, click_to_purchases, and full impressions for ad placement 3717\n",
    "purchase_3717 = Purchase[(Purchase.Placement_ID == '3717')]\n",
    "click_3717 = Purchase_Click[(Purchase_Click.Placement_ID == '3717')]\n",
    "impression_3717 = df[(df.Placement_ID == '3717')]\n",
    "\n",
    "#find full purchase rate of ad placement 3717\n",
    "purchase_rate_3717 = len(purchase_3717)/float(len(impression_3717)) * 100\n",
    "print \"3717 purchase %:\",purchase_rate_3717\n",
    "\n",
    "# AD_Placement 3718\n",
    "#create series for purchases, click_to_purchases, and full impressions for ad placement 3718\n",
    "purchase_3718 = Purchase[(Purchase.Placement_ID == '3718')]\n",
    "click_3718 = Purchase_Click[(Purchase_Click.Placement_ID == '3718')]\n",
    "impression_3718 = df[(df.Placement_ID == '3718')]\n",
    "\n",
    "#find full purchase rate of ad placement 3718\n",
    "purchase_rate_3718 = len(purchase_3718)/float(len(impression_3718)) * 100\n",
    "print \"3718 purchase %:\",purchase_rate_3718\n",
    "\n",
    "# AD_Placement 3719\n",
    "#create series for purchases, click_to_purchases, and full impressions for ad placement 3719\n",
    "purchase_3719 = Purchase[(Purchase.Placement_ID == '3719')]\n",
    "click_3719 = Purchase_Click[(Purchase_Click.Placement_ID == '3719')]\n",
    "impression_3719 = df[(df.Placement_ID == '3719')]\n",
    "\n",
    "#find full purchase rate of ad placement 3719\n",
    "purchase_rate_3719 = len(purchase_3719)/float(len(impression_3719)) * 100\n",
    "print \"3719 purchase %:\",purchase_rate_3719\n",
    "\n",
    "# AD_Placement 3720\n",
    "#create series for purchases, click_to_purchases, and full impressions for ad placement 3720\n",
    "purchase_3720 = Purchase[(Purchase.Placement_ID == '3720')]\n",
    "click_3720 = Purchase_Click[(Purchase_Click.Placement_ID == '3720')]\n",
    "impression_3720 = df[(df.Placement_ID == '3720')]\n",
    "\n",
    "#find full purchase rate of ad placement 3720\n",
    "purchase_rate_3720 = len(purchase_3720)/float(len(impression_3720)) * 100\n",
    "print \"3720 purchase %:\",purchase_rate_3720\n",
    "\n",
    "# AD_Placement 3721\n",
    "#create series for purchases, click_to_purchases, and full impressions for ad placement 3721\n",
    "purchase_3721 = Purchase[(Purchase.Placement_ID == '3721')]\n",
    "click_3721 = Purchase_Click[(Purchase_Click.Placement_ID == '3721')]\n",
    "impression_3721 = df[(df.Placement_ID == '3721')]\n",
    "\n",
    "#find full purchase rate of ad placement 3721\n",
    "purchase_rate_3721 = len(purchase_3721)/float(len(impression_3721)) * 100\n",
    "print \"3721 purchase %:\",purchase_rate_3721\n",
    "\n",
    "# AD_Placement 3722\n",
    "#create series for purchases, click_to_purchases, and full impressions for ad placement 3722\n",
    "purchase_3722 = Purchase[(Purchase.Placement_ID == '3722')]\n",
    "click_3722 = Purchase_Click[(Purchase_Click.Placement_ID == '3722')]\n",
    "impression_3722 = df[(df.Placement_ID == '3722')]\n",
    "\n",
    "#find full purchase rate of ad placement 3722\n",
    "purchase_rate_3722 = len(purchase_3722)/float(len(impression_3722)) * 100\n",
    "print \"3722 purchase %:\",purchase_rate_3722\n",
    "\n",
    "# AD_Placement 3723\n",
    "#create series for purchases, click_to_purchases, and full impressions for ad placement 3723\n",
    "purchase_3723 = Purchase[(Purchase.Placement_ID == '3723')]\n",
    "click_3723 = Purchase_Click[(Purchase_Click.Placement_ID == '3723')]\n",
    "impression_3723 = df[(df.Placement_ID == '3723')]\n",
    "\n",
    "#find full purchase rate of ad placement 3723\n",
    "purchase_rate_3723 = len(purchase_3723)/float(len(impression_3723)) * 100\n",
    "print \"3723 purchase %:\",purchase_rate_3723\n",
    "\n",
    "# AD_Placement 3724\n",
    "#create series for purchases, click_to_purchases, and full impressions for ad placement 3724\n",
    "purchase_3724 = Purchase[(Purchase.Placement_ID == '3724')]\n",
    "click_3724 = Purchase_Click[(Purchase_Click.Placement_ID == '3724')]\n",
    "impression_3724 = df[(df.Placement_ID == '3724')]\n",
    "\n",
    "#find full purchase rate of ad placement 3724\n",
    "purchase_rate_3724 = len(purchase_3724)/float(len(impression_3724)) * 100\n",
    "print \"3724 purchase %:\",purchase_rate_3724\n",
    "\n",
    "# AD_Placement 3725\n",
    "#create series for purchases, click_to_purchases, and full impressions for ad placement 3725\n",
    "purchase_3725 = Purchase[(Purchase.Placement_ID == '3725')]\n",
    "click_3725 = Purchase_Click[(Purchase_Click.Placement_ID == '3725')]\n",
    "impression_3725 = df[(df.Placement_ID == '3725')]\n",
    "\n",
    "#find full purchase rate of ad placement 3725\n",
    "purchase_rate_3725 = len(purchase_3725)/float(len(impression_3725)) * 100\n",
    "print \"3725 purchase %:\",purchase_rate_3725\n",
    "\n",
    "# AD_Placement 3726\n",
    "#create series for purchases, click_to_purchases, and full impressions for ad placement 3726\n",
    "purchase_3726 = Purchase[(Purchase.Placement_ID == '3726')]\n",
    "click_3726 = Purchase_Click[(Purchase_Click.Placement_ID == '3726')]\n",
    "impression_3726 = df[(df.Placement_ID == '3726')]\n",
    "\n",
    "#find full purchase rate of ad placement 3726\n",
    "purchase_rate_3726 = len(purchase_3726)/float(len(impression_3726)) * 100\n",
    "print \"3726 purchase %:\",purchase_rate_3726\n",
    "\n",
    "# AD_Placement 3727\n",
    "#create series for purchases, click_to_purchases, and full impressions for ad placement 3727\n",
    "purchase_3727 = Purchase[(Purchase.Placement_ID == '3727')]\n",
    "click_3727 = Purchase_Click[(Purchase_Click.Placement_ID == '3727')]\n",
    "impression_3727 = df[(df.Placement_ID == '3727')]\n",
    "\n",
    "#find full purchase rate of ad placement 3727\n",
    "purchase_rate_3727 = len(purchase_3727)/float(len(impression_3727)) * 100\n",
    "print \"3727 purchase %:\",purchase_rate_3727"
   ]
  },
  {
   "cell_type": "code",
   "execution_count": 201,
   "metadata": {},
   "outputs": [
    {
     "data": {
      "text/html": [
       "<div>\n",
       "<style>\n",
       "    .dataframe thead tr:only-child th {\n",
       "        text-align: right;\n",
       "    }\n",
       "\n",
       "    .dataframe thead th {\n",
       "        text-align: left;\n",
       "    }\n",
       "\n",
       "    .dataframe tbody tr th {\n",
       "        vertical-align: top;\n",
       "    }\n",
       "</style>\n",
       "<table border=\"1\" class=\"dataframe\">\n",
       "  <thead>\n",
       "    <tr style=\"text-align: right;\">\n",
       "      <th></th>\n",
       "      <th>Placement_ID</th>\n",
       "      <th>purchase</th>\n",
       "    </tr>\n",
       "  </thead>\n",
       "  <tbody>\n",
       "    <tr>\n",
       "      <th>0</th>\n",
       "      <td>3712</td>\n",
       "      <td>40.0</td>\n",
       "    </tr>\n",
       "    <tr>\n",
       "      <th>1</th>\n",
       "      <td>3713</td>\n",
       "      <td>36.0</td>\n",
       "    </tr>\n",
       "    <tr>\n",
       "      <th>2</th>\n",
       "      <td>3714</td>\n",
       "      <td>48.0</td>\n",
       "    </tr>\n",
       "    <tr>\n",
       "      <th>3</th>\n",
       "      <td>3715</td>\n",
       "      <td>64.0</td>\n",
       "    </tr>\n",
       "    <tr>\n",
       "      <th>4</th>\n",
       "      <td>3716</td>\n",
       "      <td>64.0</td>\n",
       "    </tr>\n",
       "    <tr>\n",
       "      <th>5</th>\n",
       "      <td>3717</td>\n",
       "      <td>20.0</td>\n",
       "    </tr>\n",
       "    <tr>\n",
       "      <th>6</th>\n",
       "      <td>3718</td>\n",
       "      <td>16.0</td>\n",
       "    </tr>\n",
       "    <tr>\n",
       "      <th>7</th>\n",
       "      <td>3719</td>\n",
       "      <td>24.0</td>\n",
       "    </tr>\n",
       "    <tr>\n",
       "      <th>8</th>\n",
       "      <td>3720</td>\n",
       "      <td>9.0</td>\n",
       "    </tr>\n",
       "    <tr>\n",
       "      <th>9</th>\n",
       "      <td>3721</td>\n",
       "      <td>7.0</td>\n",
       "    </tr>\n",
       "    <tr>\n",
       "      <th>10</th>\n",
       "      <td>3722</td>\n",
       "      <td>11.0</td>\n",
       "    </tr>\n",
       "    <tr>\n",
       "      <th>11</th>\n",
       "      <td>3723</td>\n",
       "      <td>15.0</td>\n",
       "    </tr>\n",
       "    <tr>\n",
       "      <th>12</th>\n",
       "      <td>3724</td>\n",
       "      <td>15.0</td>\n",
       "    </tr>\n",
       "    <tr>\n",
       "      <th>13</th>\n",
       "      <td>3725</td>\n",
       "      <td>12.0</td>\n",
       "    </tr>\n",
       "    <tr>\n",
       "      <th>14</th>\n",
       "      <td>3726</td>\n",
       "      <td>12.0</td>\n",
       "    </tr>\n",
       "    <tr>\n",
       "      <th>15</th>\n",
       "      <td>3727</td>\n",
       "      <td>12.0</td>\n",
       "    </tr>\n",
       "  </tbody>\n",
       "</table>\n",
       "</div>"
      ],
      "text/plain": [
       "   Placement_ID  purchase\n",
       "0          3712      40.0\n",
       "1          3713      36.0\n",
       "2          3714      48.0\n",
       "3          3715      64.0\n",
       "4          3716      64.0\n",
       "5          3717      20.0\n",
       "6          3718      16.0\n",
       "7          3719      24.0\n",
       "8          3720       9.0\n",
       "9          3721       7.0\n",
       "10         3722      11.0\n",
       "11         3723      15.0\n",
       "12         3724      15.0\n",
       "13         3725      12.0\n",
       "14         3726      12.0\n",
       "15         3727      12.0"
      ]
     },
     "execution_count": 201,
     "metadata": {},
     "output_type": "execute_result"
    }
   ],
   "source": [
    "Placement1 = {'Placement_ID': ['3712', '3713', '3714', '3715', '3716', '3717','3718','3719','3720','3721','3722','3723','3724','3725','3726','3727'],'purchase': [purchase_rate_3712, purchase_rate_3713, purchase_rate_3714, purchase_rate_3715, purchase_rate_3716, purchase_rate_3717, purchase_rate_3718, purchase_rate_3719, purchase_rate_3720, purchase_rate_3721, purchase_rate_3722, purchase_rate_3723, purchase_rate_3724, purchase_rate_3725, purchase_rate_3726, purchase_rate_3727]}\n",
    "place_df = pd.DataFrame(data=Placement1)\n",
    "place_df"
   ]
  },
  {
   "cell_type": "code",
   "execution_count": 203,
   "metadata": {},
   "outputs": [
    {
     "data": {
      "text/plain": [
       "<matplotlib.text.Text at 0x1f4657f0>"
      ]
     },
     "execution_count": 203,
     "metadata": {},
     "output_type": "execute_result"
    },
    {
     "data": {
      "image/png": "[encoded data removed]",
      "text/plain": [
       "<matplotlib.figure.Figure at 0x1f2eecc0>"
      ]
     },
     "metadata": {},
     "output_type": "display_data"
    }
   ],
   "source": [
    "sns.barplot(x=\"Placement_ID\", y=\"purchase\", data=Placement1);\n",
    "plt.title('3715 & 3716 have the highest overall purchase %')"
   ]
  },
  {
   "cell_type": "markdown",
   "metadata": {},
   "source": [
    "# Ad ID - Return On Investment (ROI) "
   ]
  },
  {
   "cell_type": "code",
   "execution_count": 156,
   "metadata": {},
   "outputs": [
    {
     "data": {
      "text/plain": [
       "<matplotlib.text.Text at 0x19249400>"
      ]
     },
     "execution_count": 156,
     "metadata": {},
     "output_type": "execute_result"
    },
    {
     "data": {
      "image/png": "[encoded data removed]",
      "text/plain": [
       "<matplotlib.figure.Figure at 0x18bd1828>"
      ]
     },
     "metadata": {},
     "output_type": "display_data"
    }
   ],
   "source": [
    "sns.set(style=\"whitegrid\")\n",
    "#create a factor plot to show the pricing and cost of each Ad-ID\n",
    "g = sns.factorplot(x=\"AVG_Purchase_Price\", y=\"CPI\", hue=\"Ad_ID\", data=df,\n",
    "                   size=6, kind=\"bar\", palette=\"muted\")\n",
    "g.despine(left=True)\n",
    "g.set_ylabels(\"CPI\")\n",
    "plt.title('Ad 328 is a definite outlier')"
   ]
  },
  {
   "cell_type": "code",
   "execution_count": 157,
   "metadata": {},
   "outputs": [
    {
     "name": "stdout",
     "output_type": "stream",
     "text": [
      "323 ROI: 2.41755319149\n",
      "324 ROI: 1.92819148936\n",
      "325 ROI: 3.07712765957\n",
      "326 ROI: 5.4\n",
      "327 ROI: 2.95689655172\n",
      "328 ROI: -0.21875\n"
     ]
    }
   ],
   "source": [
    "\n",
    "# AD_ID 323\n",
    "#create series total price cpi, total money made\n",
    "impression_323 = df[(df.Ad_ID == '323')]\n",
    "CPI_paid_323 = impression_323['CPI'].sum()\n",
    "\n",
    "purchase_323 = Purchase[(Purchase.Ad_ID == '323')]\n",
    "Amount_made_323 = purchase_323['AVG_Purchase_Price'].sum()\n",
    "\n",
    "#Get ROI for Ad_ID 323\n",
    "ROI_323 = (float(Amount_made_323)-float(CPI_paid_323))/CPI_paid_323\n",
    "print \"323 ROI:\", ROI_323\n",
    "\n",
    "\n",
    "# AD_ID 324\n",
    "#create series total price cpi, total money made\n",
    "impression_324 = df[(df.Ad_ID == '324')]\n",
    "CPI_paid_324 = impression_324['CPI'].sum()\n",
    "\n",
    "purchase_324 = Purchase[(Purchase.Ad_ID == '324')]\n",
    "Amount_made_324 = purchase_324['AVG_Purchase_Price'].sum()\n",
    "\n",
    "#Get ROI for Ad_ID 324\n",
    "ROI_324 = (float(Amount_made_324)-float(CPI_paid_324))/CPI_paid_324\n",
    "print \"324 ROI:\", ROI_324\n",
    "\n",
    "\n",
    "# AD_ID 325\n",
    "#create series total price cpi, total money made\n",
    "impression_325 = df[(df.Ad_ID == '325')]\n",
    "CPI_paid_325 = impression_325['CPI'].sum()\n",
    "\n",
    "purchase_325 = Purchase[(Purchase.Ad_ID == '325')]\n",
    "Amount_made_325 = purchase_325['AVG_Purchase_Price'].sum()\n",
    "\n",
    "#Get ROI for Ad_ID 324\n",
    "ROI_325 = (float(Amount_made_325)-float(CPI_paid_325))/CPI_paid_325\n",
    "print \"325 ROI:\", ROI_325\n",
    "\n",
    "\n",
    "# AD_ID 326\n",
    "#create series total price cpi, total money made\n",
    "impression_326 = df[(df.Ad_ID == '326')]\n",
    "CPI_paid_326 = impression_326['CPI'].sum()\n",
    "\n",
    "purchase_326 = Purchase[(Purchase.Ad_ID == '326')]\n",
    "Amount_made_326 = purchase_326['AVG_Purchase_Price'].sum()\n",
    "\n",
    "#Get ROI for Ad_ID 326\n",
    "ROI_326 = (float(Amount_made_326)-float(CPI_paid_326))/CPI_paid_326\n",
    "print \"326 ROI:\", ROI_326\n",
    "\n",
    "\n",
    "# AD_ID 327\n",
    "#create series total price cpi, total money made\n",
    "impression_327 = df[(df.Ad_ID == '327')]\n",
    "CPI_paid_327 = impression_327['CPI'].sum()\n",
    "\n",
    "purchase_327 = Purchase[(Purchase.Ad_ID == '327')]\n",
    "Amount_made_327 = purchase_327['AVG_Purchase_Price'].sum()\n",
    "\n",
    "#Get ROI for Ad_ID 327\n",
    "ROI_327 = (float(Amount_made_327)-float(CPI_paid_327))/CPI_paid_327\n",
    "print \"327 ROI:\", ROI_327\n",
    "\n",
    "\n",
    "# AD_ID 328\n",
    "#create series total price cpi and total money made.\n",
    "impression_328 = df[(df.Ad_ID == '328')]\n",
    "CPI_paid_328 = impression_328['CPI'].sum()\n",
    "\n",
    "purchase_328 = Purchase[(Purchase.Ad_ID == '328')]\n",
    "Amount_made_328 = purchase_328['AVG_Purchase_Price'].sum()\n",
    "\n",
    "#Get ROI for Ad_ID 328\n",
    "ROI_328 = (float(Amount_made_328)-float(CPI_paid_328))/CPI_paid_328\n",
    "print \"328 ROI:\", ROI_328"
   ]
  },
  {
   "cell_type": "code",
   "execution_count": 158,
   "metadata": {},
   "outputs": [
    {
     "data": {
      "text/html": [
       "<div>\n",
       "<style>\n",
       "    .dataframe thead tr:only-child th {\n",
       "        text-align: right;\n",
       "    }\n",
       "\n",
       "    .dataframe thead th {\n",
       "        text-align: left;\n",
       "    }\n",
       "\n",
       "    .dataframe tbody tr th {\n",
       "        vertical-align: top;\n",
       "    }\n",
       "</style>\n",
       "<table border=\"1\" class=\"dataframe\">\n",
       "  <thead>\n",
       "    <tr style=\"text-align: right;\">\n",
       "      <th></th>\n",
       "      <th>Ad_ID</th>\n",
       "      <th>ROI</th>\n",
       "    </tr>\n",
       "  </thead>\n",
       "  <tbody>\n",
       "    <tr>\n",
       "      <th>0</th>\n",
       "      <td>323</td>\n",
       "      <td>2.417553</td>\n",
       "    </tr>\n",
       "    <tr>\n",
       "      <th>1</th>\n",
       "      <td>324</td>\n",
       "      <td>1.928191</td>\n",
       "    </tr>\n",
       "    <tr>\n",
       "      <th>2</th>\n",
       "      <td>325</td>\n",
       "      <td>3.077128</td>\n",
       "    </tr>\n",
       "    <tr>\n",
       "      <th>3</th>\n",
       "      <td>326</td>\n",
       "      <td>5.400000</td>\n",
       "    </tr>\n",
       "    <tr>\n",
       "      <th>4</th>\n",
       "      <td>327</td>\n",
       "      <td>2.956897</td>\n",
       "    </tr>\n",
       "    <tr>\n",
       "      <th>5</th>\n",
       "      <td>328</td>\n",
       "      <td>-0.218750</td>\n",
       "    </tr>\n",
       "  </tbody>\n",
       "</table>\n",
       "</div>"
      ],
      "text/plain": [
       "   Ad_ID       ROI\n",
       "0    323  2.417553\n",
       "1    324  1.928191\n",
       "2    325  3.077128\n",
       "3    326  5.400000\n",
       "4    327  2.956897\n",
       "5    328 -0.218750"
      ]
     },
     "execution_count": 158,
     "metadata": {},
     "output_type": "execute_result"
    }
   ],
   "source": [
    "ROI_data = {'ROI': [ROI_323, ROI_324, ROI_325, ROI_326, ROI_327, ROI_328],'Ad_ID': [323, 324, 325, 326, 327, 328]}\n",
    "ROI_df = pd.DataFrame(data=ROI_data)\n",
    "ROI_df"
   ]
  },
  {
   "cell_type": "code",
   "execution_count": 159,
   "metadata": {
    "scrolled": true
   },
   "outputs": [
    {
     "data": {
      "text/plain": [
       "<matplotlib.text.Text at 0x1adca208>"
      ]
     },
     "execution_count": 159,
     "metadata": {},
     "output_type": "execute_result"
    },
    {
     "data": {
      "image/png": "[encoded data removed]",
      "text/plain": [
       "<matplotlib.figure.Figure at 0x185da710>"
      ]
     },
     "metadata": {},
     "output_type": "display_data"
    }
   ],
   "source": [
    "sns.barplot(x=\"Ad_ID\", y=\"ROI\", data=ROI_df);\n",
    "plt.title('Ad 326 has an ROI of over 500%')"
   ]
  },
  {
   "cell_type": "code",
   "execution_count": 269,
   "metadata": {},
   "outputs": [
    {
     "data": {
      "text/plain": [
       "<matplotlib.text.Text at 0x23a57e10>"
      ]
     },
     "execution_count": 269,
     "metadata": {},
     "output_type": "execute_result"
    },
    {
     "data": {
      "image/png": "[encoded data removed]",
      "text/plain": [
       "<matplotlib.figure.Figure at 0x229c77b8>"
      ]
     },
     "metadata": {},
     "output_type": "display_data"
    }
   ],
   "source": [
    "import seaborn as sns\n",
    "sns.set(style=\"whitegrid\")\n",
    "#create a graph to show the average price and cpi of the categories\n",
    "g = sns.factorplot(x=\"Ad_ID\", y=\"AVG_Purchase_Price\", hue=\"Category\", data=df,\n",
    "                   size=6, kind=\"bar\", palette=\"muted\")\n",
    "g.despine(left=True)\n",
    "g.set_ylabels(\"AVG_Purchase_Price\")\n",
    "plt.title('Categories matched with Ad Ids')"
   ]
  },
  {
   "cell_type": "markdown",
   "metadata": {},
   "source": [
    "# Category (ROI)"
   ]
  },
  {
   "cell_type": "code",
   "execution_count": 205,
   "metadata": {},
   "outputs": [
    {
     "data": {
      "text/plain": [
       "<matplotlib.text.Text at 0x1fb71128>"
      ]
     },
     "execution_count": 205,
     "metadata": {},
     "output_type": "execute_result"
    },
    {
     "data": {
      "image/png": "[encoded data removed]",
      "text/plain": [
       "<matplotlib.figure.Figure at 0x1f04dd30>"
      ]
     },
     "metadata": {},
     "output_type": "display_data"
    }
   ],
   "source": [
    "import seaborn as sns\n",
    "sns.set(style=\"whitegrid\")\n",
    "#create a graph to show the average price and cpi of the categories\n",
    "g = sns.factorplot(x=\"CPI\", y=\"AVG_Purchase_Price\", hue=\"Category\", data=df,\n",
    "                   size=6, kind=\"bar\", palette=\"muted\")\n",
    "g.despine(left=True)\n",
    "g.set_ylabels(\"AVG_Purchase_Price\")\n",
    "plt.title('CPI and Purchase Price of Categories')"
   ]
  },
  {
   "cell_type": "code",
   "execution_count": 215,
   "metadata": {},
   "outputs": [
    {
     "data": {
      "text/plain": [
       "<matplotlib.text.Text at 0x20a0f0b8>"
      ]
     },
     "execution_count": 215,
     "metadata": {},
     "output_type": "execute_result"
    },
    {
     "data": {
      "image/png": "[encoded data removed]",
      "text/plain": [
       "<matplotlib.figure.Figure at 0x20fdea20>"
      ]
     },
     "metadata": {},
     "output_type": "display_data"
    }
   ],
   "source": [
    "sns.regplot(x=\"AVG_Purchase_Price\", y=\"CPI\", data=df)\n",
    "plt.title('Video news ad has an extremely high CPI')"
   ]
  },
  {
   "cell_type": "code",
   "execution_count": 211,
   "metadata": {},
   "outputs": [
    {
     "name": "stdout",
     "output_type": "stream",
     "text": [
      "Gaming ROI: 0.5\n",
      "News ROI: 0.109154929577\n",
      "Travel ROI: 5.66666666667\n",
      "Weather ROI: 2.75\n"
     ]
    }
   ],
   "source": [
    "# Category Gaming\n",
    "#create series total price cpi, total money made\n",
    "impression_Gaming = df[(df.Category == 'Gaming')]\n",
    "CPI_paid_Gaming = impression_Gaming['CPI'].sum()\n",
    "\n",
    "purchase_Gaming = Purchase[(Purchase.Category == 'Gaming')]\n",
    "Amount_made_Gaming = purchase_Gaming['AVG_Purchase_Price'].sum()\n",
    "\n",
    "#Get ROI for Ad_ID 323\n",
    "ROI_Gaming = (float(Amount_made_Gaming)-float(CPI_paid_Gaming))/CPI_paid_Gaming\n",
    "print \"Gaming ROI:\", ROI_Gaming\n",
    "\n",
    "# Category News\n",
    "#create series total price cpi, total money made\n",
    "impression_News = df[(df.Category == 'News')]\n",
    "CPI_paid_News = impression_News['CPI'].sum()\n",
    "\n",
    "purchase_News = Purchase[(Purchase.Category == 'News')]\n",
    "Amount_made_News = purchase_News['AVG_Purchase_Price'].sum()\n",
    "\n",
    "#Get ROI for Ad_ID 323\n",
    "ROI_News = (float(Amount_made_News)-float(CPI_paid_News))/CPI_paid_News\n",
    "print \"News ROI:\", ROI_News\n",
    "\n",
    "# Category Travel\n",
    "#create series total price cpi, total money made\n",
    "impression_Travel = df[(df.Category == 'Travel')]\n",
    "CPI_paid_Travel = impression_Travel['CPI'].sum()\n",
    "\n",
    "purchase_Travel = Purchase[(Purchase.Category == 'Travel')]\n",
    "Amount_made_Travel = purchase_Travel['AVG_Purchase_Price'].sum()\n",
    "\n",
    "#Get ROI for Ad_ID 323\n",
    "ROI_Travel = (float(Amount_made_Travel)-float(CPI_paid_Travel))/CPI_paid_Travel\n",
    "print \"Travel ROI:\", ROI_Travel\n",
    "\n",
    "# Category Weather\n",
    "#create series total price cpi, total money made\n",
    "impression_Weather = df[(df.Category == 'Weather')]\n",
    "CPI_paid_Weather = impression_Weather['CPI'].sum()\n",
    "\n",
    "purchase_Weather = Purchase[(Purchase.Category == 'Weather')]\n",
    "Amount_made_Weather = purchase_Weather['AVG_Purchase_Price'].sum()\n",
    "\n",
    "#Get ROI for Ad_ID 323\n",
    "ROI_Weather = (float(Amount_made_Weather)-float(CPI_paid_Weather))/CPI_paid_Weather\n",
    "print \"Weather ROI:\", ROI_Weather"
   ]
  },
  {
   "cell_type": "code",
   "execution_count": 212,
   "metadata": {},
   "outputs": [
    {
     "data": {
      "text/html": [
       "<div>\n",
       "<style>\n",
       "    .dataframe thead tr:only-child th {\n",
       "        text-align: right;\n",
       "    }\n",
       "\n",
       "    .dataframe thead th {\n",
       "        text-align: left;\n",
       "    }\n",
       "\n",
       "    .dataframe tbody tr th {\n",
       "        vertical-align: top;\n",
       "    }\n",
       "</style>\n",
       "<table border=\"1\" class=\"dataframe\">\n",
       "  <thead>\n",
       "    <tr style=\"text-align: right;\">\n",
       "      <th></th>\n",
       "      <th>Category</th>\n",
       "      <th>ROI</th>\n",
       "    </tr>\n",
       "  </thead>\n",
       "  <tbody>\n",
       "    <tr>\n",
       "      <th>0</th>\n",
       "      <td>Gaming</td>\n",
       "      <td>0.500000</td>\n",
       "    </tr>\n",
       "    <tr>\n",
       "      <th>1</th>\n",
       "      <td>News</td>\n",
       "      <td>0.109155</td>\n",
       "    </tr>\n",
       "    <tr>\n",
       "      <th>2</th>\n",
       "      <td>Travel</td>\n",
       "      <td>5.666667</td>\n",
       "    </tr>\n",
       "    <tr>\n",
       "      <th>3</th>\n",
       "      <td>Weather</td>\n",
       "      <td>2.750000</td>\n",
       "    </tr>\n",
       "  </tbody>\n",
       "</table>\n",
       "</div>"
      ],
      "text/plain": [
       "  Category       ROI\n",
       "0   Gaming  0.500000\n",
       "1     News  0.109155\n",
       "2   Travel  5.666667\n",
       "3  Weather  2.750000"
      ]
     },
     "execution_count": 212,
     "metadata": {},
     "output_type": "execute_result"
    }
   ],
   "source": [
    "ROI_categ = {'ROI': [ROI_Gaming, ROI_News, ROI_Travel, ROI_Weather],'Category': ['Gaming', 'News', 'Travel', 'Weather']}\n",
    "ROI_df1 = pd.DataFrame(data=ROI_categ)\n",
    "ROI_df1"
   ]
  },
  {
   "cell_type": "code",
   "execution_count": 214,
   "metadata": {},
   "outputs": [
    {
     "data": {
      "text/plain": [
       "<matplotlib.text.Text at 0x20ff2208>"
      ]
     },
     "execution_count": 214,
     "metadata": {},
     "output_type": "execute_result"
    },
    {
     "data": {
      "image/png": "[encoded data removed]",
      "text/plain": [
       "<matplotlib.figure.Figure at 0x20b45860>"
      ]
     },
     "metadata": {},
     "output_type": "display_data"
    }
   ],
   "source": [
    "sns.barplot(x=\"Category\", y=\"ROI\", data=ROI_categ);\n",
    "plt.title('Travel has the highest ROI')"
   ]
  },
  {
   "cell_type": "markdown",
   "metadata": {},
   "source": [
    "# Category Conversion"
   ]
  },
  {
   "cell_type": "code",
   "execution_count": 270,
   "metadata": {},
   "outputs": [
    {
     "data": {
      "text/plain": [
       "<matplotlib.text.Text at 0x2288a048>"
      ]
     },
     "execution_count": 270,
     "metadata": {},
     "output_type": "execute_result"
    },
    {
     "data": {
      "image/png": "[encoded data removed]",
      "text/plain": [
       "<matplotlib.figure.Figure at 0x23973da0>"
      ]
     },
     "metadata": {},
     "output_type": "display_data"
    }
   ],
   "source": [
    "#plot number of total impressions for each ad size\n",
    "sns.countplot(y=\"Category\", data=df)\n",
    "plt.title('Total Impressions')"
   ]
  },
  {
   "cell_type": "code",
   "execution_count": 219,
   "metadata": {},
   "outputs": [
    {
     "name": "stdout",
     "output_type": "stream",
     "text": [
      "Gaming purchase %: 12.0\n",
      "News purchase %: 10.5\n",
      "Travel purchase %: 48.8888888889\n",
      "Weather purchase %: 20.0\n"
     ]
    }
   ],
   "source": [
    "# Category Gaming\n",
    "#create series for purchases, click_to_purchases, and full impressions for ad category Gaming\n",
    "purchase_Gaming = Purchase[(Purchase.Category == 'Gaming')]\n",
    "click_Gaming = Purchase_Click[(Purchase_Click.Category == 'Gaming')]\n",
    "impression_Gaming = df[(df.Category == 'Gaming')]\n",
    "\n",
    "#find full purchase rate of ad category Gaming\n",
    "purchase_rate_Gaming = len(purchase_Gaming)/float(len(impression_Gaming)) * 100\n",
    "print \"Gaming purchase %:\",purchase_rate_Gaming\n",
    "\n",
    "# Category News\n",
    "#create series for purchases, click_to_purchases, and full impressions for ad category News\n",
    "purchase_News = Purchase[(Purchase.Category == 'News')]\n",
    "click_News = Purchase_Click[(Purchase_Click.Category == 'News')]\n",
    "impression_News = df[(df.Category == 'News')]\n",
    "\n",
    "#find full purchase rate of ad category News\n",
    "purchase_rate_News = len(purchase_News)/float(len(impression_News)) * 100\n",
    "print \"News purchase %:\",purchase_rate_News\n",
    "\n",
    "# Category Travel\n",
    "#create series for purchases, click_to_purchases, and full impressions for ad category Travel\n",
    "purchase_Travel = Purchase[(Purchase.Category == 'Travel')]\n",
    "click_Travel = Purchase_Click[(Purchase_Click.Category == 'Travel')]\n",
    "impression_Travel = df[(df.Category == 'Travel')]\n",
    "\n",
    "#find full purchase rate of ad category Travel\n",
    "purchase_rate_Travel = len(purchase_Travel)/float(len(impression_Travel)) * 100\n",
    "print \"Travel purchase %:\",purchase_rate_Travel\n",
    "\n",
    "# Category Weather\n",
    "#create series for purchases, click_to_purchases, and full impressions for ad category Weather\n",
    "purchase_Weather = Purchase[(Purchase.Category == 'Weather')]\n",
    "click_Weather = Purchase_Click[(Purchase_Click.Category == 'Weather')]\n",
    "impression_Weather = df[(df.Category == 'Weather')]\n",
    "\n",
    "#find full purchase rate of ad category Weather\n",
    "purchase_rate_Weather = len(purchase_Weather)/float(len(impression_Weather)) * 100\n",
    "print \"Weather purchase %:\",purchase_rate_Weather"
   ]
  },
  {
   "cell_type": "code",
   "execution_count": 220,
   "metadata": {},
   "outputs": [
    {
     "data": {
      "text/html": [
       "<div>\n",
       "<style>\n",
       "    .dataframe thead tr:only-child th {\n",
       "        text-align: right;\n",
       "    }\n",
       "\n",
       "    .dataframe thead th {\n",
       "        text-align: left;\n",
       "    }\n",
       "\n",
       "    .dataframe tbody tr th {\n",
       "        vertical-align: top;\n",
       "    }\n",
       "</style>\n",
       "<table border=\"1\" class=\"dataframe\">\n",
       "  <thead>\n",
       "    <tr style=\"text-align: right;\">\n",
       "      <th></th>\n",
       "      <th>Category</th>\n",
       "      <th>purchase</th>\n",
       "    </tr>\n",
       "  </thead>\n",
       "  <tbody>\n",
       "    <tr>\n",
       "      <th>0</th>\n",
       "      <td>Gaming</td>\n",
       "      <td>12.000000</td>\n",
       "    </tr>\n",
       "    <tr>\n",
       "      <th>1</th>\n",
       "      <td>News</td>\n",
       "      <td>10.500000</td>\n",
       "    </tr>\n",
       "    <tr>\n",
       "      <th>2</th>\n",
       "      <td>Travel</td>\n",
       "      <td>48.888889</td>\n",
       "    </tr>\n",
       "    <tr>\n",
       "      <th>3</th>\n",
       "      <td>Weather</td>\n",
       "      <td>20.000000</td>\n",
       "    </tr>\n",
       "  </tbody>\n",
       "</table>\n",
       "</div>"
      ],
      "text/plain": [
       "  Category   purchase\n",
       "0   Gaming  12.000000\n",
       "1     News  10.500000\n",
       "2   Travel  48.888889\n",
       "3  Weather  20.000000"
      ]
     },
     "execution_count": 220,
     "metadata": {},
     "output_type": "execute_result"
    }
   ],
   "source": [
    "ad_category = {'Category': ['Gaming', 'News', 'Travel', 'Weather'],'purchase': [purchase_rate_Gaming, purchase_rate_News, purchase_rate_Travel, purchase_rate_Weather]}\n",
    "categ_df = pd.DataFrame(data=ad_category)\n",
    "categ_df"
   ]
  },
  {
   "cell_type": "code",
   "execution_count": 224,
   "metadata": {},
   "outputs": [
    {
     "data": {
      "text/plain": [
       "<matplotlib.text.Text at 0x20dbb358>"
      ]
     },
     "execution_count": 224,
     "metadata": {},
     "output_type": "execute_result"
    },
    {
     "data": {
      "image/png": "[encoded data removed]",
      "text/plain": [
       "<matplotlib.figure.Figure at 0x20ea3c50>"
      ]
     },
     "metadata": {},
     "output_type": "display_data"
    }
   ],
   "source": [
    "sns.barplot(x=\"Category\", y=\"purchase\", data=ad_category);\n",
    "plt.title('Travel has the highest % purchase rate')"
   ]
  },
  {
   "cell_type": "code",
   "execution_count": 229,
   "metadata": {},
   "outputs": [
    {
     "name": "stdout",
     "output_type": "stream",
     "text": [
      "Gaming purchase %: 6.0\n",
      "News purchase %: 6.0\n",
      "Travel purchase %: 11.5555555556\n",
      "Weather purchase %: 10.0\n"
     ]
    }
   ],
   "source": [
    "# Category Gaming\n",
    "#create series for purchases, click_to_purchases, and full impressions for ad category Gaming\n",
    "purchase_Gaming = Purchase[(Purchase.Category == 'Gaming')]\n",
    "click_Gaming = Purchase_Click[(Purchase_Click.Category == 'Gaming')]\n",
    "impression_Gaming = df[(df.Category == 'Gaming')]\n",
    "\n",
    "#find click to purchase rate of ad category Gaming\n",
    "click_to_purchase_rate_Gaming = len(click_Gaming)/float(len(impression_Gaming)) * 100\n",
    "print \"Gaming purchase %:\",click_to_purchase_rate_Gaming\n",
    "\n",
    "# Category News\n",
    "#create series for purchases, click_to_purchases, and full impressions for ad category News\n",
    "purchase_News = Purchase[(Purchase.Category == 'News')]\n",
    "click_News = Purchase_Click[(Purchase_Click.Category == 'News')]\n",
    "impression_News = df[(df.Category == 'News')]\n",
    "\n",
    "#find full purchase rate of ad category News\n",
    "click_to_purchase_rate_News = len(click_News)/float(len(impression_News)) * 100\n",
    "print \"News purchase %:\",click_to_purchase_rate_News\n",
    "\n",
    "# Category Travel\n",
    "#create series for purchases, click_to_purchases, and full impressions for ad category Travel\n",
    "purchase_Travel = Purchase[(Purchase.Category == 'Travel')]\n",
    "click_Travel = Purchase_Click[(Purchase_Click.Category == 'Travel')]\n",
    "impression_Travel = df[(df.Category == 'Travel')]\n",
    "\n",
    "#find full purchase rate of ad category Travel\n",
    "click_to_purchase_rate_Travel = len(click_Travel)/float(len(impression_Travel)) * 100\n",
    "print \"Travel purchase %:\",click_to_purchase_rate_Travel\n",
    "\n",
    "# Category Weather\n",
    "#create series for purchases, click_to_purchases, and full impressions for ad category Weather\n",
    "purchase_Weather = Purchase[(Purchase.Category == 'Weather')]\n",
    "click_Weather = Purchase_Click[(Purchase_Click.Category == 'Weather')]\n",
    "impression_Weather = df[(df.Category == 'Weather')]\n",
    "\n",
    "#find full purchase rate of ad category Weather\n",
    "click_to_purchase_rate_Weather = len(click_Weather)/float(len(impression_Weather)) * 100\n",
    "print \"Weather purchase %:\",click_to_purchase_rate_Weather"
   ]
  },
  {
   "cell_type": "code",
   "execution_count": 234,
   "metadata": {},
   "outputs": [
    {
     "data": {
      "text/html": [
       "<div>\n",
       "<style>\n",
       "    .dataframe thead tr:only-child th {\n",
       "        text-align: right;\n",
       "    }\n",
       "\n",
       "    .dataframe thead th {\n",
       "        text-align: left;\n",
       "    }\n",
       "\n",
       "    .dataframe tbody tr th {\n",
       "        vertical-align: top;\n",
       "    }\n",
       "</style>\n",
       "<table border=\"1\" class=\"dataframe\">\n",
       "  <thead>\n",
       "    <tr style=\"text-align: right;\">\n",
       "      <th></th>\n",
       "      <th>Category</th>\n",
       "      <th>purchase</th>\n",
       "    </tr>\n",
       "  </thead>\n",
       "  <tbody>\n",
       "    <tr>\n",
       "      <th>0</th>\n",
       "      <td>Gaming</td>\n",
       "      <td>6.000000</td>\n",
       "    </tr>\n",
       "    <tr>\n",
       "      <th>1</th>\n",
       "      <td>News</td>\n",
       "      <td>6.000000</td>\n",
       "    </tr>\n",
       "    <tr>\n",
       "      <th>2</th>\n",
       "      <td>Travel</td>\n",
       "      <td>11.555556</td>\n",
       "    </tr>\n",
       "    <tr>\n",
       "      <th>3</th>\n",
       "      <td>Weather</td>\n",
       "      <td>10.000000</td>\n",
       "    </tr>\n",
       "  </tbody>\n",
       "</table>\n",
       "</div>"
      ],
      "text/plain": [
       "  Category   purchase\n",
       "0   Gaming   6.000000\n",
       "1     News   6.000000\n",
       "2   Travel  11.555556\n",
       "3  Weather  10.000000"
      ]
     },
     "execution_count": 234,
     "metadata": {},
     "output_type": "execute_result"
    }
   ],
   "source": [
    "ad_category_click = {'Category': ['Gaming', 'News', 'Travel', 'Weather'],'purchase': [click_to_purchase_rate_Gaming, click_to_purchase_rate_News, click_to_purchase_rate_Travel, click_to_purchase_rate_Weather]}\n",
    "categ_df1 = pd.DataFrame(data=ad_category_click)\n",
    "categ_df1"
   ]
  },
  {
   "cell_type": "code",
   "execution_count": 237,
   "metadata": {},
   "outputs": [
    {
     "data": {
      "text/plain": [
       "<matplotlib.text.Text at 0x21767e10>"
      ]
     },
     "execution_count": 237,
     "metadata": {},
     "output_type": "execute_result"
    },
    {
     "data": {
      "image/png": "[encoded data removed]",
      "text/plain": [
       "<matplotlib.figure.Figure at 0x21089828>"
      ]
     },
     "metadata": {},
     "output_type": "display_data"
    }
   ],
   "source": [
    "#create a graph to show the click to purchase rate for each category\n",
    "sns.barplot(x=\"Category\", y=\"purchase\", data=ad_category_click);\n",
    "plt.title('Travel has the highest click-to-purchase % rate')"
   ]
  },
  {
   "cell_type": "markdown",
   "metadata": {},
   "source": [
    "# Ad Format (ROI)"
   ]
  },
  {
   "cell_type": "code",
   "execution_count": 271,
   "metadata": {},
   "outputs": [
    {
     "data": {
      "text/plain": [
       "<matplotlib.text.Text at 0x24009b70>"
      ]
     },
     "execution_count": 271,
     "metadata": {},
     "output_type": "execute_result"
    },
    {
     "data": {
      "image/png": "[encoded data removed]",
      "text/plain": [
       "<matplotlib.figure.Figure at 0x22f94128>"
      ]
     },
     "metadata": {},
     "output_type": "display_data"
    }
   ],
   "source": [
    "import seaborn as sns\n",
    "sns.set(style=\"whitegrid\")\n",
    "#create a graph to show the average price and cpi of the categories\n",
    "g = sns.factorplot(x=\"Ad_Format\", y=\"AVG_Purchase_Price\", hue=\"Category\", data=df,\n",
    "                   size=6, kind=\"bar\", palette=\"muted\")\n",
    "g.despine(left=True)\n",
    "g.set_ylabels(\"AVG_Purchase_Price\")\n",
    "plt.title('Categories matched with Ad Formats')"
   ]
  },
  {
   "cell_type": "code",
   "execution_count": 276,
   "metadata": {},
   "outputs": [
    {
     "name": "stdout",
     "output_type": "stream",
     "text": [
      "Standard ROI: 2.47429078014\n",
      "Rich ROI: 3.78977272727\n",
      "Video ROI: -0.21875\n",
      "Money lost on video ad -6300.0\n"
     ]
    }
   ],
   "source": [
    "# Format Standard\n",
    "#create series total price cpi, total money made\n",
    "impression_Standard = df[(df.Ad_Format == 'Standard')]\n",
    "CPI_paid_Standard = impression_Standard['CPI'].sum()\n",
    "\n",
    "purchase_Standard = Purchase[(Purchase.Ad_Format == 'Standard')]\n",
    "Amount_made_Standard = purchase_Standard['AVG_Purchase_Price'].sum()\n",
    "\n",
    "#Get ROI for Ad_Format\n",
    "ROI_Standard = (float(Amount_made_Standard)-float(CPI_paid_Standard))/CPI_paid_Standard\n",
    "print \"Standard ROI:\", ROI_Standard\n",
    "\n",
    "# Format Rich-Media\n",
    "#create series total price cpi, total money made\n",
    "impression_Rich = df[(df.Ad_Format == 'Rich-Media')]\n",
    "CPI_paid_Rich = impression_Rich['CPI'].sum()\n",
    "\n",
    "purchase_Rich = Purchase[(Purchase.Ad_Format == 'Rich-Media')]\n",
    "Amount_made_Rich = purchase_Rich['AVG_Purchase_Price'].sum()\n",
    "\n",
    "#Get ROI for Ad_Format Rich-media\n",
    "ROI_Rich = (float(Amount_made_Rich)-float(CPI_paid_Rich))/CPI_paid_Rich\n",
    "print \"Rich ROI:\", ROI_Rich\n",
    "\n",
    "# Format Video\n",
    "#create series total price cpi, total money made\n",
    "impression_Video = df[(df.Ad_Format == 'Video')]\n",
    "CPI_paid_Video = impression_Video['CPI'].sum()\n",
    "\n",
    "purchase_Video = Purchase[(Purchase.Ad_Format == 'Video')]\n",
    "Amount_made_Video = purchase_Video['AVG_Purchase_Price'].sum()\n",
    "\n",
    "#Get ROI for Ad_Format Video\n",
    "ROI_Video = (float(Amount_made_Video)-float(CPI_paid_Video))/CPI_paid_Video\n",
    "print \"Video ROI:\", ROI_Video\n",
    "\n",
    "#figure loss on video ad\n",
    "loss = CPI_paid_Video * ROI_Video\n",
    "print \"Money lost on video ad\",loss"
   ]
  },
  {
   "cell_type": "code",
   "execution_count": 249,
   "metadata": {},
   "outputs": [
    {
     "data": {
      "text/html": [
       "<div>\n",
       "<style>\n",
       "    .dataframe thead tr:only-child th {\n",
       "        text-align: right;\n",
       "    }\n",
       "\n",
       "    .dataframe thead th {\n",
       "        text-align: left;\n",
       "    }\n",
       "\n",
       "    .dataframe tbody tr th {\n",
       "        vertical-align: top;\n",
       "    }\n",
       "</style>\n",
       "<table border=\"1\" class=\"dataframe\">\n",
       "  <thead>\n",
       "    <tr style=\"text-align: right;\">\n",
       "      <th></th>\n",
       "      <th>Ad_Format</th>\n",
       "      <th>ROI</th>\n",
       "    </tr>\n",
       "  </thead>\n",
       "  <tbody>\n",
       "    <tr>\n",
       "      <th>0</th>\n",
       "      <td>Standard</td>\n",
       "      <td>2.474291</td>\n",
       "    </tr>\n",
       "    <tr>\n",
       "      <th>1</th>\n",
       "      <td>Rich-Media</td>\n",
       "      <td>3.789773</td>\n",
       "    </tr>\n",
       "    <tr>\n",
       "      <th>2</th>\n",
       "      <td>Video</td>\n",
       "      <td>-0.218750</td>\n",
       "    </tr>\n",
       "  </tbody>\n",
       "</table>\n",
       "</div>"
      ],
      "text/plain": [
       "    Ad_Format       ROI\n",
       "0    Standard  2.474291\n",
       "1  Rich-Media  3.789773\n",
       "2       Video -0.218750"
      ]
     },
     "execution_count": 249,
     "metadata": {},
     "output_type": "execute_result"
    }
   ],
   "source": [
    "ROI_Format = {'ROI': [ROI_Standard, ROI_Rich, ROI_Video],'Ad_Format': ['Standard', 'Rich-Media', 'Video']}\n",
    "ROI_f = pd.DataFrame(data=ROI_Format)\n",
    "ROI_f"
   ]
  },
  {
   "cell_type": "code",
   "execution_count": 252,
   "metadata": {},
   "outputs": [
    {
     "data": {
      "text/plain": [
       "<matplotlib.text.Text at 0x21ffd908>"
      ]
     },
     "execution_count": 252,
     "metadata": {},
     "output_type": "execute_result"
    },
    {
     "data": {
      "image/png": "[encoded data removed]",
      "text/plain": [
       "<matplotlib.figure.Figure at 0x22124128>"
      ]
     },
     "metadata": {},
     "output_type": "display_data"
    }
   ],
   "source": [
    "sns.barplot(x=\"Ad_Format\", y=\"ROI\", data=ROI_f);\n",
    "plt.title('Rich-Media has a 375% ROI')"
   ]
  },
  {
   "cell_type": "markdown",
   "metadata": {},
   "source": [
    "# Ad Format Conversion"
   ]
  },
  {
   "cell_type": "code",
   "execution_count": 279,
   "metadata": {},
   "outputs": [
    {
     "data": {
      "text/plain": [
       "<matplotlib.text.Text at 0x24f62a20>"
      ]
     },
     "execution_count": 279,
     "metadata": {},
     "output_type": "execute_result"
    },
    {
     "data": {
      "image/png": "[encoded data removed]",
      "text/plain": [
       "<matplotlib.figure.Figure at 0x23bb3438>"
      ]
     },
     "metadata": {},
     "output_type": "display_data"
    }
   ],
   "source": [
    "#plot number of total impressions for each ad size\n",
    "sns.countplot(x=\"Ad_Format\", data=df)\n",
    "plt.title('Total Impressions')"
   ]
  },
  {
   "cell_type": "code",
   "execution_count": 280,
   "metadata": {},
   "outputs": [
    {
     "data": {
      "text/plain": [
       "<matplotlib.text.Text at 0x2573fe10>"
      ]
     },
     "execution_count": 280,
     "metadata": {},
     "output_type": "execute_result"
    },
    {
     "data": {
      "image/png": "[encoded data removed]",
      "text/plain": [
       "<matplotlib.figure.Figure at 0x2543b630>"
      ]
     },
     "metadata": {},
     "output_type": "display_data"
    }
   ],
   "source": [
    "sns.barplot(x=\"Ad_Format\", y=\"CPI\", data=df);\n",
    "plt.title('Ad 326 has an ROI of over 500%')"
   ]
  },
  {
   "cell_type": "code",
   "execution_count": 246,
   "metadata": {},
   "outputs": [
    {
     "name": "stdout",
     "output_type": "stream",
     "text": [
      "Standard purchase %: 20.6324786325\n",
      "Rich-Media purchase %: 51.75\n",
      "Video purchase %: 15.0\n"
     ]
    }
   ],
   "source": [
    "# Format Standard\n",
    "#create series for purchases, click_to_purchases, and full impressions for ad format Standard\n",
    "purchase_Standard = Purchase[(Purchase.Ad_Format == 'Standard')]\n",
    "click_Standard = Purchase_Click[(Purchase_Click.Ad_Format == 'Standard')]\n",
    "impression_Standard = df[(df.Ad_Format == 'Standard')]\n",
    "\n",
    "#find full purchase rate of ad category Gaming\n",
    "purchase_rate_Standard = len(purchase_Standard)/float(len(impression_Standard)) * 100\n",
    "print \"Standard purchase %:\",purchase_rate_Standard\n",
    "\n",
    "# Format Rich-Media\n",
    "#create series for purchases, click_to_purchases, and full impressions for ad category Gaming\n",
    "purchase_Rich = Purchase[(Purchase.Ad_Format == 'Rich-Media')]\n",
    "click_Rich = Purchase_Click[(Purchase_Click.Ad_Format == 'Rich-Media')]\n",
    "impression_Rich = df[(df.Ad_Format == 'Rich-Media')]\n",
    "\n",
    "#find full purchase rate of ad category Gaming\n",
    "purchase_rate_Rich = len(purchase_Rich)/float(len(impression_Rich)) * 100\n",
    "print \"Rich-Media purchase %:\",purchase_rate_Rich\n",
    "\n",
    "# Format Video\n",
    "#create series for purchases, click_to_purchases, and full impressions for ad category Gaming\n",
    "purchase_Video = Purchase[(Purchase.Ad_Format == 'Video')]\n",
    "click_Video = Purchase_Click[(Purchase_Click.Ad_Format == 'Video')]\n",
    "impression_Video = df[(df.Ad_Format == 'Video')]\n",
    "\n",
    "#find full purchase rate of ad category Gaming\n",
    "purchase_rate_Video = len(purchase_Video)/float(len(impression_Video)) * 100\n",
    "print \"Video purchase %:\",purchase_rate_Video"
   ]
  },
  {
   "cell_type": "code",
   "execution_count": 254,
   "metadata": {},
   "outputs": [
    {
     "data": {
      "text/html": [
       "<div>\n",
       "<style>\n",
       "    .dataframe thead tr:only-child th {\n",
       "        text-align: right;\n",
       "    }\n",
       "\n",
       "    .dataframe thead th {\n",
       "        text-align: left;\n",
       "    }\n",
       "\n",
       "    .dataframe tbody tr th {\n",
       "        vertical-align: top;\n",
       "    }\n",
       "</style>\n",
       "<table border=\"1\" class=\"dataframe\">\n",
       "  <thead>\n",
       "    <tr style=\"text-align: right;\">\n",
       "      <th></th>\n",
       "      <th>Ad_Format</th>\n",
       "      <th>purchase</th>\n",
       "    </tr>\n",
       "  </thead>\n",
       "  <tbody>\n",
       "    <tr>\n",
       "      <th>0</th>\n",
       "      <td>Standard</td>\n",
       "      <td>20.632479</td>\n",
       "    </tr>\n",
       "    <tr>\n",
       "      <th>1</th>\n",
       "      <td>Rich-Media</td>\n",
       "      <td>51.750000</td>\n",
       "    </tr>\n",
       "    <tr>\n",
       "      <th>2</th>\n",
       "      <td>Video</td>\n",
       "      <td>15.000000</td>\n",
       "    </tr>\n",
       "  </tbody>\n",
       "</table>\n",
       "</div>"
      ],
      "text/plain": [
       "    Ad_Format   purchase\n",
       "0    Standard  20.632479\n",
       "1  Rich-Media  51.750000\n",
       "2       Video  15.000000"
      ]
     },
     "execution_count": 254,
     "metadata": {},
     "output_type": "execute_result"
    }
   ],
   "source": [
    "ROI_Format1 = {'purchase': [purchase_rate_Standard, purchase_rate_Rich, purchase_rate_Video],'Ad_Format': ['Standard', 'Rich-Media', 'Video']}\n",
    "ROI_f1 = pd.DataFrame(data=ROI_Format1)\n",
    "ROI_f1"
   ]
  },
  {
   "cell_type": "code",
   "execution_count": 257,
   "metadata": {},
   "outputs": [
    {
     "data": {
      "text/plain": [
       "<matplotlib.text.Text at 0x2243b438>"
      ]
     },
     "execution_count": 257,
     "metadata": {},
     "output_type": "execute_result"
    },
    {
     "data": {
      "image/png": "[encoded data removed]",
      "text/plain": [
       "<matplotlib.figure.Figure at 0x223e5518>"
      ]
     },
     "metadata": {},
     "output_type": "display_data"
    }
   ],
   "source": [
    "sns.barplot(x=\"Ad_Format\", y=\"purchase\", data=ROI_f1);\n",
    "plt.title('Rich-Media has a 50% purchase rate')"
   ]
  },
  {
   "cell_type": "code",
   "execution_count": 261,
   "metadata": {},
   "outputs": [
    {
     "name": "stdout",
     "output_type": "stream",
     "text": [
      "Standard click_to_purchase %: 8.22222222222\n",
      "Rich-Media click_to_purchase %: 13.5\n",
      "Video click_to_purchase %: 6.0\n"
     ]
    }
   ],
   "source": [
    "\n",
    "# Format Standard\n",
    "#create series for purchases, click_to_purchases, and full impressions for ad format Standard\n",
    "purchase_Standard = Purchase[(Purchase.Ad_Format == 'Standard')]\n",
    "click_Standard = Purchase_Click[(Purchase_Click.Ad_Format == 'Standard')]\n",
    "impression_Standard = df[(df.Ad_Format == 'Standard')]\n",
    "\n",
    "#find full purchase rate of ad category Gaming\n",
    "click_to_purchase_rate_Standard = len(click_Standard)/float(len(impression_Standard)) * 100\n",
    "print \"Standard click_to_purchase %:\",click_to_purchase_rate_Standard\n",
    "\n",
    "# Format Rich-Media\n",
    "#create series for purchases, click_to_purchases, and full impressions for ad rich media\n",
    "purchase_Rich = Purchase[(Purchase.Ad_Format == 'Rich-Media')]\n",
    "click_Rich = Purchase_Click[(Purchase_Click.Ad_Format == 'Rich-Media')]\n",
    "impression_Rich = df[(df.Ad_Format == 'Rich-Media')]\n",
    "\n",
    "#find full purchase rate of ad category rich_media\n",
    "click_to_purchase_rate_Rich = len(click_Rich)/float(len(impression_Rich)) * 100\n",
    "print \"Rich-Media click_to_purchase %:\",click_to_purchase_rate_Rich\n",
    "\n",
    "# Format Video\n",
    "#create series for purchases, click_to_purchases, and full impressions for ad video\n",
    "purchase_Video = Purchase[(Purchase.Ad_Format == 'Video')]\n",
    "click_Video = Purchase_Click[(Purchase_Click.Ad_Format == 'Video')]\n",
    "impression_Video = df[(df.Ad_Format == 'Video')]\n",
    "\n",
    "#find full purchase rate of ad category Gaming\n",
    "click_to_purchase_rate_Video = len(click_Video)/float(len(impression_Video)) * 100\n",
    "print \"Video click_to_purchase %:\",click_to_purchase_rate_Video"
   ]
  },
  {
   "cell_type": "code",
   "execution_count": 262,
   "metadata": {},
   "outputs": [
    {
     "data": {
      "text/html": [
       "<div>\n",
       "<style>\n",
       "    .dataframe thead tr:only-child th {\n",
       "        text-align: right;\n",
       "    }\n",
       "\n",
       "    .dataframe thead th {\n",
       "        text-align: left;\n",
       "    }\n",
       "\n",
       "    .dataframe tbody tr th {\n",
       "        vertical-align: top;\n",
       "    }\n",
       "</style>\n",
       "<table border=\"1\" class=\"dataframe\">\n",
       "  <thead>\n",
       "    <tr style=\"text-align: right;\">\n",
       "      <th></th>\n",
       "      <th>Ad_Format</th>\n",
       "      <th>click_to_purchase</th>\n",
       "    </tr>\n",
       "  </thead>\n",
       "  <tbody>\n",
       "    <tr>\n",
       "      <th>0</th>\n",
       "      <td>Standard</td>\n",
       "      <td>8.222222</td>\n",
       "    </tr>\n",
       "    <tr>\n",
       "      <th>1</th>\n",
       "      <td>Rich-Media</td>\n",
       "      <td>13.500000</td>\n",
       "    </tr>\n",
       "    <tr>\n",
       "      <th>2</th>\n",
       "      <td>Video</td>\n",
       "      <td>6.000000</td>\n",
       "    </tr>\n",
       "  </tbody>\n",
       "</table>\n",
       "</div>"
      ],
      "text/plain": [
       "    Ad_Format  click_to_purchase\n",
       "0    Standard           8.222222\n",
       "1  Rich-Media          13.500000\n",
       "2       Video           6.000000"
      ]
     },
     "execution_count": 262,
     "metadata": {},
     "output_type": "execute_result"
    }
   ],
   "source": [
    "ROI_Format2 = {'click_to_purchase': [click_to_purchase_rate_Standard, click_to_purchase_rate_Rich, click_to_purchase_rate_Video],'Ad_Format': ['Standard', 'Rich-Media', 'Video']}\n",
    "ROI_f2 = pd.DataFrame(data=ROI_Format2)\n",
    "ROI_f2"
   ]
  },
  {
   "cell_type": "code",
   "execution_count": 266,
   "metadata": {},
   "outputs": [
    {
     "data": {
      "text/plain": [
       "<matplotlib.text.Text at 0x229dd390>"
      ]
     },
     "execution_count": 266,
     "metadata": {},
     "output_type": "execute_result"
    },
    {
     "data": {
      "image/png": "[encoded data removed]",
      "text/plain": [
       "<matplotlib.figure.Figure at 0x227d51d0>"
      ]
     },
     "metadata": {},
     "output_type": "display_data"
    }
   ],
   "source": [
    "sns.barplot(x=\"Ad_Format\", y=\"click_to_purchase\", data=ROI_f2);\n",
    "plt.title('Rich-Media has the highest click-to-purchase %')"
   ]
  },
  {
   "cell_type": "markdown",
   "metadata": {},
   "source": [
    "# Conclusions:"
   ]
  },
  {
   "cell_type": "markdown",
   "metadata": {},
   "source": [
    "Ad Size:\n",
    "    \n",
    "The larger ads had the highest Click-to-Purchase rates. Ad Size 970x250 was the highest at 16%, with the highest overall purcahse rate too at 64%. The other Ad Sizes that performed particularly well were 500x600 and 300x600, both had click-to-purchase rates around 12%\n",
    "    \n",
    "The lowest click-to_purchase ad size was 728x90 at 5.28. The news video has the lowest overall purchase rate at only 15% with only 6% coming from clicks.\n",
    "    \n",
    "Placement:\n",
    "\n",
    "3714, 3715, and 3716 are the placement Ids with the highest click-to-purchase rates. Placements 3715 and 3716 also have the highest overall purchase rates at 64%.\n",
    "    \n",
    "Ad ID:\n",
    "     \n",
    "Ad ID 326 has the highest click-to purchase rate. It is a Travel Ad that brings an over 500% return on investment. We are losing money on our video news ad with an ROI of -22%.\n",
    "    \n",
    "Categories:\n",
    "\n",
    "Travel has the highest return on investment at 567%. News has the lowest at 11%. Travel also has the highest overall purchase rate at 48.89%, but the click-to purchase rate is only 11.55%. The much lower click-to-purchase rate suggests that a confounding variable of this study is that travel is a necessity of many customers. \n",
    "\n",
    "Weather has a 20% overall purchase rate and a 10% click-to-purchase rate. Gaming and news also have around 50% of their purchases made through clicks on their ads.\n",
    "    \n",
    "Format:\n",
    "\n",
    "Rich-Media features only Travel and News ads and has a 375% return on investment. Rich-Media has a 50% conversion rate, which is more than double that of Standard or Video.\n",
    "\n",
    "Recommendations:\n",
    "\n",
    "1. Remove the video news ad with the Ad ID 328. We've lost $6300 on that video.\n",
    "\n",
    "2. Further explore why the percentage of click-to-purchase rates on travel are so low in comparison to their overall purchase rates. If there is a better way to advertize to people who are buying out of necessity; we could win over even more purchasers.\n",
    "\n",
    "3. Take a closer look at the individual Rich-Media Format campaigns. The return on investment and the purchase rates affiliated with them are sky high, but they do represent a very small sample size in comparison to our standard ad format."
   ]
  }
 ],
 "metadata": {
  "kernelspec": {
   "display_name": "Python 2",
   "language": "python",
   "name": "python2"
  },
  "language_info": {
   "codemirror_mode": {
    "name": "ipython",
    "version": 2
   },
   "file_extension": ".py",
   "mimetype": "text/x-python",
   "name": "python",
   "nbconvert_exporter": "python",
   "pygments_lexer": "ipython2",
   "version": "2.7.13"
  }
 },
 "nbformat": 4,
 "nbformat_minor": 2
}
