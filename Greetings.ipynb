{
  "nbformat": 4,
  "nbformat_minor": 0,
  "metadata": {
    "colab": {
      "name": "Greetings.ipynb",
      "provenance": [],
      "authorship_tag": "ABX9TyOclmnJKvgGY36SkOgHN2jX",
      "include_colab_link": true
    },
    "kernelspec": {
      "name": "python3",
      "display_name": "Python 3"
    }
  },
  "cells": [
    {
      "cell_type": "markdown",
      "metadata": {
        "id": "view-in-github",
        "colab_type": "text"
      },
      "source": [
        "<a href=\"https://colab.research.google.com/github/Lydster/Agency_Case_Study/blob/master/Greetings.ipynb\" target=\"_parent\"><img src=\"https://colab.research.google.com/assets/colab-badge.svg\" alt=\"Open In Colab\"/></a>"
      ]
    },
    {
      "cell_type": "code",
      "metadata": {
        "id": "Em26SRf4bDyc",
        "colab_type": "code",
        "outputId": "c31e646b-b2cd-4f54-b7a6-47a3bb781d1d",
        "colab": {
          "base_uri": "https://localhost:8080/",
          "height": 34
        }
      },
      "source": [
        "def greet(name):\n",
        "    \"\"\"\n",
        "    This function greets to\n",
        "    the person passed in as\n",
        "    a parameter\n",
        "    \"\"\"\n",
        "    print(\"Hello, \" + name + \". Good morning!\")\n",
        "\n",
        "greet('Lydia')"
      ],
      "execution_count": 0,
      "outputs": [
        {
          "output_type": "stream",
          "text": [
            "Hello, Lydia. Good morning!\n"
          ],
          "name": "stdout"
        }
      ]
    },
    {
      "cell_type": "markdown",
      "metadata": {
        "id": "IAUn3OXjfo5q",
        "colab_type": "text"
      },
      "source": [
        "This is nice that you can add text and links directly into the google colab. [Python Wiki Front Page](https://wiki.python.org/moin/)"
      ]
    }
  ]
}